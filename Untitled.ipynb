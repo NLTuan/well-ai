{
 "cells": [
  {
   "cell_type": "code",
   "execution_count": 10,
   "id": "0200235a-95d1-4159-97d4-9d275b3958c3",
   "metadata": {
    "tags": []
   },
   "outputs": [],
   "source": [
    "import streamlit as st\n",
    "from openai import OpenAI\n",
    "\n",
    "# Show title and description.\n",
    "st.title(\"💬 Chatbot\")\n",
    "st.write(\n",
    "    \"This is a simple chatbot that uses OpenAI's GPT-3.5 model to generate responses. \"\n",
    "    \"To use this app, you need to provide an OpenAI API key, which you can get [here](https://platform.openai.com/account/api-keys). \"\n",
    "    \"You can also learn how to build this app step by step by [following our tutorial](https://docs.streamlit.io/develop/tutorials/llms/build-conversational-apps).\"\n",
    ")\n",
    "\n",
    "# Ask user for their OpenAI API key via `st.text_input`.\n",
    "# Alternatively, you can store the API key in `./.streamlit/secrets.toml` and access it\n",
    "# via `st.secrets`, see https://docs.streamlit.io/develop/concepts/connections/secrets-management\n",
    "openai_api_key = st.text_input(\"OpenAI API Key\", type=\"password\")\n",
    "if not openai_api_key:\n",
    "    st.info(\"Please add your OpenAI API key to continue.\", icon=\"🗝️\")\n",
    "else:\n",
    "\n",
    "    # Create an OpenAI client.\n",
    "    client = OpenAI(api_key=openai_api_key)\n",
    "\n",
    "    # Create a session state variable to store the chat messages. This ensures that the\n",
    "    # messages persist across reruns.\n",
    "    if \"messages\" not in st.session_state:\n",
    "        st.session_state.messages = []\n",
    "\n",
    "    # Display the existing chat messages via `st.chat_message`.\n",
    "    for message in st.session_state.messages:\n",
    "        with st.chat_message(message[\"role\"]):\n",
    "            st.markdown(message[\"content\"])\n",
    "\n",
    "    # Create a chat input field to allow the user to enter a message. This will display\n",
    "    # automatically at the bottom of the page.\n",
    "    if prompt := st.chat_input(\"What is up?\"):\n",
    "\n",
    "        # Store and display the current prompt.\n",
    "        st.session_state.messages.append({\"role\": \"user\", \"content\": prompt})\n",
    "        with st.chat_message(\"user\"):\n",
    "            st.markdown(prompt)\n",
    "\n",
    "        # Generate a response using the OpenAI API.\n",
    "        stream = client.chat.completions.create(\n",
    "            model=\"gpt-3.5-turbo\",\n",
    "            messages=[\n",
    "                {\"role\": m[\"role\"], \"content\": m[\"content\"]}\n",
    "                for m in st.session_state.messages\n",
    "            ],\n",
    "            stream=True,\n",
    "        )\n",
    "\n",
    "        # Stream the response to the chat using `st.write_stream`, then store it in \n",
    "        # session state.\n",
    "        with st.chat_message(\"assistant\"):\n",
    "            response = st.write_stream(stream)\n",
    "        st.session_state.messages.append({\"role\": \"assistant\", \"content\": response})\n"
   ]
  },
  {
   "cell_type": "code",
   "execution_count": null,
   "id": "64dd9fcd-ec56-4bc4-b8d4-708cec30e2a2",
   "metadata": {},
   "outputs": [],
   "source": []
  }
 ],
 "metadata": {
  "kernelspec": {
   "display_name": "Python 3 (ipykernel)",
   "language": "python",
   "name": "python3"
  },
  "language_info": {
   "codemirror_mode": {
    "name": "ipython",
    "version": 3
   },
   "file_extension": ".py",
   "mimetype": "text/x-python",
   "name": "python",
   "nbconvert_exporter": "python",
   "pygments_lexer": "ipython3",
   "version": "3.11.7"
  }
 },
 "nbformat": 4,
 "nbformat_minor": 5
}
