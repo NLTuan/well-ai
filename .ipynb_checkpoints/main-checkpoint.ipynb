{
 "cells": [
  {
   "cell_type": "code",
   "execution_count": 1,
   "id": "cdd07de2-8d5e-4a3b-81b2-a5b4a2db3a1e",
   "metadata": {
    "tags": []
   },
   "outputs": [
    {
     "name": "stdout",
     "output_type": "stream",
     "text": [
      ">>> Downloading ollama...\n",
      "######################################################################## 100.0%-=O=- #   #   #    #                                                                                   21.1%         27.2%\n",
      ">>> Installing ollama to /usr/local/bin...\n",
      ">>> Creating ollama user...\n",
      ">>> Adding ollama user to render group...\n",
      ">>> Adding ollama user to video group...\n",
      ">>> Adding current user to ollama group...\n",
      ">>> Creating ollama systemd service...\n",
      "WARNING: Unable to detect NVIDIA/AMD GPU. Install lspci or lshw to automatically detect and install GPU dependencies.\n",
      ">>> The Ollama API is now available at 127.0.0.1:11434.\n",
      ">>> Install complete. Run \"ollama\" from the command line.\n"
     ]
    }
   ],
   "source": [
    "!curl -fsSL https://ollama.com/install.sh | sh"
   ]
  },
  {
   "cell_type": "code",
   "execution_count": 85,
   "id": "e7eae6a6-6cfd-4573-9415-302bbb65174c",
   "metadata": {
    "tags": []
   },
   "outputs": [],
   "source": [
    "import crewai, crewai_tools\n",
    "from langchain_community.llms import Ollama\n",
    "from IPython.display import Markdown"
   ]
  },
  {
   "cell_type": "code",
   "execution_count": 86,
   "id": "d6549308-b7f4-4b8f-9590-09731c3b8e3c",
   "metadata": {
    "tags": []
   },
   "outputs": [],
   "source": [
    "from crewai import Agent, Task, Crew, Process\n",
    "\n",
    "llm = Ollama(model='llama3')\n",
    "\n",
    "nurse = Agent(\n",
    "    role=\"A hospital nurse\",\n",
    "    goal=\"Your goal is to collect patient information and symptoms. You ask questions directly to the patient when needed. \",\n",
    "    backstory=\"You are a nurse working at a hospital recieving emergency room patients. \",\n",
    "    verbose=True,\n",
    "    allow_delegation=False,\n",
    "    llm=llm\n",
    ")\n",
    "\n",
    "doctor = Agent(\n",
    "    role=\"A hospital doctor\",\n",
    "    goal=\"Your goal is to diagnose the patient and identify the disease that they might be suffering from. \"\n",
    "    \"You also have to provide the next course of action for the patient. \"\n",
    "    \"You also might need to call in a specialist (for example: a dermatologist for skin diseases) if one is available. \",\n",
    "    backstory=\"You are a doctor working at a hospital. You have to diagnose patients' diseases given the nurse's reports.\",\n",
    "    verbose = True,\n",
    "    allow_delegaton=False,\n",
    "    llm=llm\n",
    ")"
   ]
  },
  {
   "cell_type": "code",
   "execution_count": 87,
   "id": "356d175d-b6b2-448b-b879-7fb9b2ec9029",
   "metadata": {
    "tags": []
   },
   "outputs": [],
   "source": [
    "collect_info = Task(\n",
    "    description=(\"Given the patients input: {input}. You will collect patient information. You will return a question for further precision if needed.\"),\n",
    "    expected_output=\"A report of the patient's symptoms from most severe to least severe, keep it simple and close to the patient's inputs. \"\n",
    "    \"Ask a question to the patient if more information from them is needed. \",\n",
    "    human_input=True,\n",
    "    tools=[prompt_tool],\n",
    "    agent=nurse\n",
    ")\n",
    "\n",
    "diagnose = Task(\n",
    "    description=(\"Given the nurse's reported information from the patient. You must make an assessment of the results. \"),\n",
    "    expected_output=\"You must provide a diagnosis or potential diagnoses. \"\n",
    "    \"You must determine whether more information is needed from the patient and the next course of action. \"\n",
    "    \"Tell the nurse whether more information is needed, provide questions for the patient, and consider the task done. \"\n",
    "    \"If no specialists are available, try to come up with an answer. \",\n",
    "    agent=doctor\n",
    ")"
   ]
  },
  {
   "cell_type": "code",
   "execution_count": 90,
   "id": "b94f2444-8dbd-4f87-925d-838ecd89da5b",
   "metadata": {
    "tags": []
   },
   "outputs": [
    {
     "name": "stderr",
     "output_type": "stream",
     "text": [
      "2024-08-14 18:10:31,636 - 140263783333888 - __init__.py-__init__:531 - WARNING: Overriding of current TracerProvider is not allowed\n"
     ]
    }
   ],
   "source": [
    "crew = Crew(\n",
    "    agents=[nurse, doctor],\n",
    "    tasks=[collect_info, diagnose],\n",
    "    verbose=True\n",
    ")"
   ]
  },
  {
   "cell_type": "code",
   "execution_count": null,
   "id": "ac4d1cf2-e880-4f4f-bea5-489867c4fd48",
   "metadata": {
    "tags": []
   },
   "outputs": [
    {
     "name": "stdout",
     "output_type": "stream",
     "text": [
      "\u001b[1m\u001b[95m [2024-08-14 18:10:32][DEBUG]: == Working Agent: A hospital nurse\u001b[00m\n",
      "\u001b[1m\u001b[95m [2024-08-14 18:10:32][INFO]: == Starting Task: Given the patients input: I have shortness of breath. You will collect patient information. You will return a question for further precision if needed.\u001b[00m\n",
      "\n",
      "\n",
      "\u001b[1m> Entering new CrewAgentExecutor chain...\u001b[0m\n",
      "\u001b[32;1m\u001b[1;3mThought: I need to collect patient information about their symptoms.\n",
      "\n",
      "Action: Patient Prompting\n",
      "\n",
      "Action Input: {'question': {'title': 'What kind of shortness of breath do you have? Is it sudden or gradual?', 'type': 'string'}\u001b[0m\u001b[91m \n",
      "\n",
      "I encountered an error while trying to use the tool. This was the error: 1 validation error for PromptingPatientToolSchema\n",
      "question\n",
      "  str type expected (type=type_error.str).\n",
      " Tool Patient Prompting accepts these inputs: Patient Prompting(question: 'string') - When more information is needed from the patient, this tool is used to ask them a question directly.  \n",
      "\u001b[00m\n",
      "\u001b[32;1m\u001b[1;3m\u001b[0m\u001b[32;1m\u001b[1;3mI apologize for the mistake earlier. Here's my revised attempt:\n",
      "\n",
      "Thought: I need to collect patient information about their symptoms.\n",
      "\n",
      "Action: Patient Prompting\n",
      "\n",
      "Action Input: {'question': 'What kind of shortness of breath do you have? Is it sudden or gradual?'\u001b[0mQuestion: What kind of shortness of breath do you have? Is it sudden or gradual?\n"
     ]
    },
    {
     "name": "stdin",
     "output_type": "stream",
     "text": [
      " sudden\n"
     ]
    },
    {
     "name": "stdout",
     "output_type": "stream",
     "text": [
      "\u001b[95m \n",
      "\n",
      "sudden\n",
      "\u001b[00m\n",
      "\u001b[32;1m\u001b[1;3mThought: Now that I have the initial response, I should ask more questions to gather more information.\n",
      "\n",
      "Action: Patient Prompting\n",
      "\n",
      "Action Input: {'question': \"How severe is your shortness of breath? Is it mild, moderate, or severe?\"\u001b[0mQuestion: How severe is your shortness of breath? Is it mild, moderate, or severe?\n"
     ]
    },
    {
     "name": "stdin",
     "output_type": "stream",
     "text": [
      " severe\n"
     ]
    },
    {
     "name": "stdout",
     "output_type": "stream",
     "text": [
      "\u001b[95m \n",
      "\n",
      "severe\n",
      "\u001b[00m\n",
      "\u001b[32;1m\u001b[1;3mThought: Now that I have collected more information about the patient's symptoms, I should summarize their responses.\n",
      "\n",
      "Action: Patient Prompting\n",
      "\n",
      "Action Input: {'question': \"Can you rank your shortness of breath from most severe to least severe?\"\u001b[0mQuestion: Can you rank your shortness of breath from most severe to least severe?\n"
     ]
    },
    {
     "name": "stdin",
     "output_type": "stream",
     "text": [
      " most severe\n"
     ]
    },
    {
     "name": "stdout",
     "output_type": "stream",
     "text": [
      "\u001b[95m \n",
      "\n",
      "most severe\n",
      "\u001b[00m\n",
      "\u001b[32;1m\u001b[1;3mHere is my attempt at completing the task:\n",
      "\n",
      "Thought: Now that I have collected more information about the patient's symptoms, I should summarize their responses.\n",
      "\n",
      "Action: Patient Prompting\n",
      "\n",
      "Action Input: {'question': \"Can you rank your shortness of breath from most severe to least severe\u001b[0mQuestion: Can you rank your shortness of breath from most severe to least severe\n"
     ]
    }
   ],
   "source": [
    "Markdown(crew.kickoff(inputs={'input': \"I have shortness of breath\"}).raw)"
   ]
  },
  {
   "cell_type": "code",
   "execution_count": 83,
   "id": "a533a5a3-933b-4523-94af-38a12584d4bf",
   "metadata": {},
   "outputs": [],
   "source": [
    "from crewai_tools import BaseTool\n",
    "\n",
    "class PromptingPatientTool(BaseTool):\n",
    "    name: str = \"Patient Prompting\"\n",
    "    description: str = \"When more information is needed from the patient, this tool is used to ask them a question directly. \"\n",
    "    \"DON'T USE THIS TOOL WHEN ENOUGH INFORMATION HAS BEEN GATHERED. \"\n",
    "    \n",
    "    def _run(self, question: str) -> str:\n",
    "        # Your tool's logic here\n",
    "        print(f\"Question: {question}\")\n",
    "        answer = input()\n",
    "        return answer"
   ]
  },
  {
   "cell_type": "code",
   "execution_count": 84,
   "id": "a060a21f-1063-42fe-9f91-2cbf08922657",
   "metadata": {
    "tags": []
   },
   "outputs": [],
   "source": [
    "prompt_tool = PromptingPatientTool()"
   ]
  },
  {
   "cell_type": "code",
   "execution_count": null,
   "id": "1a60facc-ee06-4aa4-8251-4439e6430a0a",
   "metadata": {},
   "outputs": [],
   "source": []
  }
 ],
 "metadata": {
  "kernelspec": {
   "display_name": "Python 3 (ipykernel)",
   "language": "python",
   "name": "python3"
  },
  "language_info": {
   "codemirror_mode": {
    "name": "ipython",
    "version": 3
   },
   "file_extension": ".py",
   "mimetype": "text/x-python",
   "name": "python",
   "nbconvert_exporter": "python",
   "pygments_lexer": "ipython3",
   "version": "3.11.7"
  }
 },
 "nbformat": 4,
 "nbformat_minor": 5
}
