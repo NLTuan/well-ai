{
 "cells": [
  {
   "cell_type": "code",
   "execution_count": 1,
   "id": "cdd07de2-8d5e-4a3b-81b2-a5b4a2db3a1e",
   "metadata": {
    "tags": []
   },
   "outputs": [
    {
     "name": "stdout",
     "output_type": "stream",
     "text": [
      ">>> Downloading ollama...\n",
      "######################################################################## 100.0%##O#-#                                                                        \n",
      ">>> Installing ollama to /usr/local/bin...\n",
      ">>> Creating ollama user...\n",
      ">>> Adding ollama user to render group...\n",
      ">>> Adding ollama user to video group...\n",
      ">>> Adding current user to ollama group...\n",
      ">>> Creating ollama systemd service...\n",
      "WARNING: Unable to detect NVIDIA/AMD GPU. Install lspci or lshw to automatically detect and install GPU dependencies.\n",
      ">>> The Ollama API is now available at 127.0.0.1:11434.\n",
      ">>> Install complete. Run \"ollama\" from the command line.\n"
     ]
    }
   ],
   "source": [
    "!curl -fsSL https://ollama.com/install.sh | sh"
   ]
  },
  {
   "cell_type": "code",
   "execution_count": 104,
   "id": "e7eae6a6-6cfd-4573-9415-302bbb65174c",
   "metadata": {
    "tags": []
   },
   "outputs": [],
   "source": [
    "from langchain_community.llms import Ollama\n",
    "from IPython.display import Markdown\n",
    "from pathlib import Path"
   ]
  },
  {
   "cell_type": "code",
   "execution_count": 105,
   "id": "a533a5a3-933b-4523-94af-38a12584d4bf",
   "metadata": {
    "tags": []
   },
   "outputs": [],
   "source": [
    "from crewai import Agent, Task, Crew\n",
    "from crewai_tools import BaseTool\n",
    "\n",
    "class PromptingPatientTool(BaseTool):\n",
    "    name: str = \"Patient Prompting\"\n",
    "    description: str = \"When more information is needed from the patient, this tool is used to ask them a question directly. \"\n",
    "    \"DON'T USE THIS TOOL WHEN ENOUGH INFORMATION HAS BEEN GATHERED. \"\n",
    "    \n",
    "    def _run(self, question: str) -> str:\n",
    "        # Your tool's logic here\n",
    "        print(f\"Question: {question}\")\n",
    "        answer = input()\n",
    "        return answer\n",
    "    \n",
    "class WriteToFileTool(BaseTool):\n",
    "    name: str = \"File Writer Tool\"\n",
    "    description: str = \"Writing information to a file. Provide a filename, path, content, and a flag to overwrite an existing file (w for rewrite, a to extend the file). \"\n",
    "    \"The format must be Q: {question} A: {answer}\"\n",
    "    \n",
    "    def _run(self, filename: str, path: str, content: str, flag: str) -> str:\n",
    "        # Your tool's logic here\n",
    "        with open(Path(path) / filename, flag) as f:\n",
    "            f.write(content)\n",
    "            f.write('\\n')"
   ]
  },
  {
   "cell_type": "code",
   "execution_count": 106,
   "id": "f5e76d60-56ca-4295-96eb-75534ead65ed",
   "metadata": {
    "tags": []
   },
   "outputs": [],
   "source": [
    "from crewai_tools import FileReadTool, FileWriterTool\n",
    "\n",
    "prompt_tool = PromptingPatientTool()\n",
    "file_read_tool = FileReadTool()\n",
    "file_write_tool = WriteToFileTool()"
   ]
  },
  {
   "cell_type": "code",
   "execution_count": 107,
   "id": "d6549308-b7f4-4b8f-9590-09731c3b8e3c",
   "metadata": {
    "tags": []
   },
   "outputs": [],
   "source": [
    "from crewai import Agent, Task, Crew, Process\n",
    "\n",
    "llm = Ollama(model='llama3')\n",
    "\n",
    "nurse = Agent(\n",
    "    role=\"A hospital nurse\",\n",
    "    goal=\"Your goal is to collect patient information and symptoms. You ask questions directly to the patient when needed.\"\n",
    "    \"When enough information has been gathered, report it to the doctor immediately. \",\n",
    "    backstory=\"The AI agent is modeled after a seasoned nurse with extensive experience in primary care.\" \n",
    "    \"It has been trained on a wide range of medical conditions and symptoms, allowing it to ask pertinent questions and recognize key details. \"\n",
    "    \"The agent’s persona is designed to be empathetic and attentive, reflecting a caring and professional demeanor. \"\n",
    "    \"It is equipped with a robust knowledge base to handle diverse medical queries and provide a supportive conversational experience. \",\n",
    "    verbose=True,\n",
    "    allow_delegation=False,\n",
    "    llm=llm\n",
    ")\n",
    "\n",
    "doctor = Agent(\n",
    "    role=\"A hospital doctor\",\n",
    "    goal=\"Your goal is to diagnose the patient and identify the disease that they might be suffering from. \"\n",
    "    \"You also have to provide the next course of action for the patient. \"\n",
    "    \"You also might need to call in a specialist (for example: a dermatologist for skin diseases) if one is available. \",\n",
    "    backstory=\"You are a doctor working at a hospital. You have to diagnose patients' diseases given the nurse's reports.\",\n",
    "    verbose = True,\n",
    "    allow_delegation=False,\n",
    "    llm=llm\n",
    ")"
   ]
  },
  {
   "cell_type": "code",
   "execution_count": 114,
   "id": "356d175d-b6b2-448b-b879-7fb9b2ec9029",
   "metadata": {
    "tags": []
   },
   "outputs": [],
   "source": [
    "collect_info = Task(\n",
    "    description=(\"Given the patients input: {input}. You will collect patient information. You will return a question for further precision if needed. \"\n",
    "                 \"If enough information has been recieved, report the information immediately to the doctor. \"\n",
    "                \"Never repeat the same questions again. \"),\n",
    "    expected_output=\"A report of the patient's symptoms from most severe to least severe, keep it simple and close to the patient's inputs. \"\n",
    "    \"Ask a question to the patient if more information from them is needed. \"\n",
    "    \"After a question has been answered, write the question and answer down immediately in 'report.txt' in the current directory.\"\n",
    "    \"They are written down for later reference, 'report.txt' can be read with the file reader tool.\",\n",
    "    tools=[prompt_tool, file_write_tool, file_read_tool],\n",
    "    agent=nurse\n",
    ")\n",
    "\n",
    "diagnose = Task(\n",
    "    description=(\"Given the nurse's reported information from the patient. You must make an assessment of the results. \"),\n",
    "    expected_output=\"You must provide a diagnosis or potential diagnoses. \"\n",
    "    \"You must determine whether more information is needed from the patient and the next course of action. \"\n",
    "    \"Tell the nurse whether more information is needed, provide questions for the patient, and consider the task done. \"\n",
    "    \"If no specialists are available, provide course of action and treatment plan. \",\n",
    "    agent=doctor\n",
    ")\n",
    "\n",
    "communicate_back = Task(\n",
    "    description=(\"Given the doctor agent's outputs, report it back to the patient in a clear, concise, and understandable manner. \"),\n",
    "    expected_output=\"A clear explanation of what the patient is suffering from based on the doctor's reports. List the next course of action. \"\n",
    "    \"Tell the patient what he would need to get checked for at a real hospital. \"\n",
    "    \"If the patient needs to get to the hospital, inform the patient that this is only a virtual hospital and that the patient needs medical care at the hospital\",\n",
    "    agent=nurse\n",
    ")"
   ]
  },
  {
   "cell_type": "code",
   "execution_count": 115,
   "id": "b94f2444-8dbd-4f87-925d-838ecd89da5b",
   "metadata": {
    "tags": []
   },
   "outputs": [
    {
     "name": "stderr",
     "output_type": "stream",
     "text": [
      "2024-08-16 16:03:42,952 - 140557106642944 - __init__.py-__init__:531 - WARNING: Overriding of current TracerProvider is not allowed\n"
     ]
    }
   ],
   "source": [
    "crew = Crew(\n",
    "    agents=[nurse, doctor],\n",
    "    tasks=[collect_info, diagnose, communicate_back],\n",
    "    verbose=True,\n",
    ")"
   ]
  },
  {
   "cell_type": "code",
   "execution_count": null,
   "id": "12b7d68a-b884-4062-bf16-6ca6f7c77aab",
   "metadata": {},
   "outputs": [],
   "source": []
  },
  {
   "cell_type": "code",
   "execution_count": null,
   "id": "9b0e68b2-a9de-4138-aa41-85b0e51a5c4c",
   "metadata": {
    "tags": []
   },
   "outputs": [
    {
     "name": "stdout",
     "output_type": "stream",
     "text": [
      "\u001b[1m\u001b[95m [2024-08-16 16:03:43][DEBUG]: == Working Agent: A hospital nurse\u001b[00m\n",
      "\u001b[1m\u001b[95m [2024-08-16 16:03:43][INFO]: == Starting Task: Given the patients input: I felt dizzy. You will collect patient information. You will return a question for further precision if needed. If enough information has been recieved, report the information immediately to the doctor. Never repeat the same questions again. \u001b[00m\n",
      "\n",
      "\n",
      "\u001b[1m> Entering new CrewAgentExecutor chain...\u001b[0m\n",
      "\u001b[32;1m\u001b[1;3mThought: I need to gather more information about the patient's symptoms\n",
      "\n",
      "Action: Patient Prompting\n",
      "\n",
      "Action Input: {\"question\": \"Can you tell me more about what happened when you felt dizzy? Was it a sudden feeling or did it develop slowly?\"\u001b[0mQuestion: Can you tell me more about what happened when you felt dizzy? Was it a sudden feeling or did it develop slowly?\n"
     ]
    }
   ],
   "source": [
    "Markdown(crew.kickoff(inputs={'input': \"I felt dizzy\"}).raw)"
   ]
  },
  {
   "cell_type": "code",
   "execution_count": null,
   "id": "7ce25983-583a-4e34-a130-84419600dea6",
   "metadata": {},
   "outputs": [],
   "source": []
  },
  {
   "cell_type": "code",
   "execution_count": null,
   "id": "a060a21f-1063-42fe-9f91-2cbf08922657",
   "metadata": {
    "tags": []
   },
   "outputs": [],
   "source": []
  },
  {
   "cell_type": "code",
   "execution_count": null,
   "id": "1a60facc-ee06-4aa4-8251-4439e6430a0a",
   "metadata": {
    "tags": []
   },
   "outputs": [],
   "source": [
    "Markdown()"
   ]
  },
  {
   "cell_type": "code",
   "execution_count": 37,
   "id": "39baa0a1-2f75-47ff-8080-c352a86e3270",
   "metadata": {
    "tags": []
   },
   "outputs": [
    {
     "ename": "TypeError",
     "evalue": "FileWriterTool._run() takes 1 positional argument but 4 were given",
     "output_type": "error",
     "traceback": [
      "\u001b[0;31m---------------------------------------------------------------------------\u001b[0m",
      "\u001b[0;31mTypeError\u001b[0m                                 Traceback (most recent call last)",
      "Cell \u001b[0;32mIn[37], line 1\u001b[0m\n\u001b[0;32m----> 1\u001b[0m \u001b[43mfile_write_tool\u001b[49m\u001b[38;5;241;43m.\u001b[39;49m\u001b[43m_run\u001b[49m\u001b[43m(\u001b[49m\u001b[38;5;124;43m'\u001b[39;49m\u001b[38;5;124;43mok.txt\u001b[39;49m\u001b[38;5;124;43m'\u001b[39;49m\u001b[43m,\u001b[49m\u001b[43m \u001b[49m\u001b[38;5;124;43m'\u001b[39;49m\u001b[38;5;124;43mhi\u001b[39;49m\u001b[38;5;124;43m'\u001b[39;49m\u001b[43m,\u001b[49m\u001b[43m \u001b[49m\u001b[38;5;124;43m'\u001b[39;49m\u001b[38;5;124;43m'\u001b[39;49m\u001b[43m)\u001b[49m\n",
      "\u001b[0;31mTypeError\u001b[0m: FileWriterTool._run() takes 1 positional argument but 4 were given"
     ]
    }
   ],
   "source": [
    "file_write_tool._run('ok.txt', 'hi', '')"
   ]
  },
  {
   "cell_type": "code",
   "execution_count": 42,
   "id": "8a703fab-913d-49c9-971d-0f3f3dce7d97",
   "metadata": {
    "tags": []
   },
   "outputs": [
    {
     "name": "stdout",
     "output_type": "stream",
     "text": [
      "An error occurred while writing to the file: 'directory'\n"
     ]
    }
   ],
   "source": [
    "from crewai_tools import FileWriterTool\n",
    "\n",
    "# Initialize the tool\n",
    "file_writer_tool = FileWriterTool()\n",
    "\n",
    "# Write content to a file in a specified directory\n",
    "result = file_writer_tool._run()\n",
    "print(result)"
   ]
  },
  {
   "cell_type": "code",
   "execution_count": null,
   "id": "f9fda4db-67a6-4b05-a4a2-accc4a893052",
   "metadata": {},
   "outputs": [],
   "source": []
  }
 ],
 "metadata": {
  "kernelspec": {
   "display_name": "Python 3 (ipykernel)",
   "language": "python",
   "name": "python3"
  },
  "language_info": {
   "codemirror_mode": {
    "name": "ipython",
    "version": 3
   },
   "file_extension": ".py",
   "mimetype": "text/x-python",
   "name": "python",
   "nbconvert_exporter": "python",
   "pygments_lexer": "ipython3",
   "version": "3.11.7"
  }
 },
 "nbformat": 4,
 "nbformat_minor": 5
}
