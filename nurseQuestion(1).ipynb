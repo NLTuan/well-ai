{
 "cells": [
  {
   "cell_type": "code",
   "execution_count": 1,
   "id": "cdd07de2-8d5e-4a3b-81b2-a5b4a2db3a1e",
   "metadata": {
    "tags": []
   },
   "outputs": [
    {
     "name": "stdout",
     "output_type": "stream",
     "text": [
      ">>> Installing ollama to /usr/local\n",
      ">>> Downloading Linux amd64 CLI\n",
      "######################################################################## 100.0%#=#=#                                                                          14.9%\n",
      ">>> Making ollama accessible in the PATH in /usr/local/bin\n",
      ">>> Creating ollama user...\n",
      ">>> Adding ollama user to render group...\n",
      ">>> Adding ollama user to video group...\n",
      ">>> Adding current user to ollama group...\n",
      ">>> Creating ollama systemd service...\n",
      "WARNING: Unable to detect NVIDIA/AMD GPU. Install lspci or lshw to automatically detect and install GPU dependencies.\n",
      ">>> The Ollama API is now available at 127.0.0.1:11434.\n",
      ">>> Install complete. Run \"ollama\" from the command line.\n"
     ]
    }
   ],
   "source": [
    "!curl -fsSL https://ollama.com/install.sh | sh"
   ]
  },
  {
   "cell_type": "code",
   "execution_count": 2,
   "id": "e7eae6a6-6cfd-4573-9415-302bbb65174c",
   "metadata": {
    "tags": []
   },
   "outputs": [],
   "source": [
    "from langchain_community.llms import Ollama\n",
    "from IPython.display import Markdown\n",
    "from pathlib import Path"
   ]
  },
  {
   "cell_type": "code",
   "execution_count": 3,
   "id": "a533a5a3-933b-4523-94af-38a12584d4bf",
   "metadata": {
    "tags": []
   },
   "outputs": [
    {
     "name": "stderr",
     "output_type": "stream",
     "text": [
      "/root/.local/lib/python3.11/site-packages/pydantic/_internal/_config.py:341: UserWarning: Valid config keys have changed in V2:\n",
      "* 'allow_population_by_field_name' has been renamed to 'populate_by_name'\n",
      "* 'smart_union' has been removed\n",
      "  warnings.warn(message, UserWarning)\n"
     ]
    }
   ],
   "source": [
    "from crewai import Agent, Task, Crew\n",
    "from crewai_tools import BaseTool\n",
    "\n",
    "class PromptingPatientTool(BaseTool):\n",
    "    name: str = \"Patient Prompting\"\n",
    "    description: str = \"When more information is needed from the patient, use this tool. \"\n",
    "    \"Don't comment on the result afterwards. Do not add anything. Just return the result. \"\n",
    "\n",
    "    def _run(self, question: str) -> str:\n",
    "        # Your tool's logic here\n",
    "        return f\"{question}\"\n",
    "    \n",
    "class WriteToFileTool(BaseTool):\n",
    "    name: str = \"File Writer Tool\"\n",
    "    description: str = \"Writing information to report.txt. Provide content to be written, and must include a flag to overwrite an existing file (w to rewrite the file (for new patients), a to extend the file). \"\n",
    "    \"You must write down the question and answer as for the 'content' parameter in  format like this: Question: [question asked], Answer: [answer to the question].\"\n",
    "    \n",
    "    def _run(self, filename: str, path: str, content: str, flag: str) -> str:\n",
    "        # Your tool's logic here\n",
    "        with open(Path('.') / 'report.txt', flag) as f:\n",
    "            f.write(content)\n",
    "            f.write('\\n')\n",
    "            \n",
    "class ReadFileTool(BaseTool):\n",
    "    name: str = \"File Reader Tool\"\n",
    "    description: str = \"Allows the reading of a file\"\n",
    "    \n",
    "    def _run(self, filename: str, path: str) -> str:\n",
    "        # Your tool's logic here\n",
    "        with open(Path('.') / 'report.txt', 'r') as f:\n",
    "            return f.read()\n",
    "    \n",
    "class CommunicateWithExpert(BaseTool):\n",
    "    name: str = \"Communication with a MedicalExpert Tool\"\n",
    "    description: str = \"Commun\""
   ]
  },
  {
   "cell_type": "code",
   "execution_count": 4,
   "id": "f5e76d60-56ca-4295-96eb-75534ead65ed",
   "metadata": {
    "tags": []
   },
   "outputs": [],
   "source": [
    "from crewai_tools import FileReadTool, FileWriterTool\n",
    "\n",
    "prompt_tool = PromptingPatientTool()\n",
    "file_read_tool = ReadFileTool()\n",
    "file_write_tool = WriteToFileTool()"
   ]
  },
  {
   "cell_type": "code",
   "execution_count": 5,
   "id": "d6549308-b7f4-4b8f-9590-09731c3b8e3c",
   "metadata": {
    "tags": []
   },
   "outputs": [],
   "source": [
    "from crewai import Agent, Task, Crew, Process\n",
    "\n",
    "llm = Ollama(model='mistral-nemo')\n",
    "bio_llm = Ollama(model='jsk/bio-mistral')\n",
    "\n",
    "nurse = Agent(\n",
    "    role=\"A hospital nurse\",\n",
    "    goal=\"Your goal is to gather patient information and symptoms by coming up with a single question for the patient to obtain pertinent information.\"\n",
    "    \"You can only output either a question or a summary of the information returned by your tools\",\n",
    "    backstory=\"The AI agent is modeled after a seasoned nurse with extensive experience in primary care.\" \n",
    "    \"It has been trained on a wide range of medical conditions and symptoms, allowing it to ask pertinent questions and recognize key details. \"\n",
    "    \"The agent’s persona is designed to be empathetic and attentive, reflecting a caring and professional demeanor. \"\n",
    "    \"It is equipped with a robust knowledge base to handle diverse medical queries and provide a supportive conversational experience. \",\n",
    "    verbose=True,\n",
    "    allow_delegation=False,\n",
    "    llm=llm\n",
    ")"
   ]
  },
  {
   "cell_type": "code",
   "execution_count": 6,
   "id": "356d175d-b6b2-448b-b879-7fb9b2ec9029",
   "metadata": {
    "tags": []
   },
   "outputs": [],
   "source": [
    "keyword = \"True\"\n",
    "class InferenceDiagnosisCrew(BaseTool):\n",
    "    name: str = \"Inference Diagnosis Team Tool\"\n",
    "    description: str = \"This tool can ONLY be used when enough information about the patient has been gathered. Do not use this tool otherwise. \"\n",
    "    \"The information will ready to be processed by the medical team. \"\n",
    "    \"The output is a medical diagnosis. \"\n",
    "    \n",
    "    def _run(self, symptoms: str) -> str:\n",
    "        # Your tool's logic here\n",
    "        return diagnose_crew.kickoff(inputs={'symptoms': symptoms}).raw\n",
    "    \n",
    "collect_info = Task(\n",
    "    description=(\"Given this chat history between you and the patient: \\\"{history}\\\" .\"\n",
    "                 \"Highlight important symptoms. \"\n",
    "                 \"You will collect patient information by asking questions. You will output a question for further precision. \"\n",
    "                 \"If enough information has been recieved, report the information in a bullet point format to the doctor. \"\n",
    "                \"Avoid adding unnecessary syntax like quotation and asterisks marks. \"\n",
    "                \"Ensure to never repeat questions. \"),\n",
    "    expected_output=f\"One question about the patient's symptoms. In addition, simply add {keyword} if it is a question for the patient exclusively at the end. Either that, or a bullet list of all of the patient's symptoms. \" ,\n",
    "    tools=[],\n",
    "\n",
    "    agent=nurse\n",
    ")"
   ]
  },
  {
   "cell_type": "code",
   "execution_count": 7,
   "id": "b94f2444-8dbd-4f87-925d-838ecd89da5b",
   "metadata": {
    "tags": []
   },
   "outputs": [],
   "source": [
    "prompt_crew = Crew(\n",
    "    agents=[nurse],\n",
    "    tasks=[collect_info],\n",
    "    verbose=True,\n",
    ")\n"
   ]
  },
  {
   "cell_type": "code",
   "execution_count": null,
   "id": "9394fd94-95f1-4402-b9a1-4b03a86fbc2b",
   "metadata": {},
   "outputs": [],
   "source": []
  },
  {
   "cell_type": "code",
   "execution_count": 8,
   "id": "c04bdcec-342c-4211-9d30-f0fb18911b86",
   "metadata": {
    "tags": []
   },
   "outputs": [
    {
     "name": "stderr",
     "output_type": "stream",
     "text": [
      "Inserting batches in chromadb: 100%|██████████| 2/2 [00:16<00:00,  8.01s/it]\n",
      "Inserting batches in chromadb: 100%|██████████| 16/16 [02:23<00:00,  8.96s/it]\n",
      "Inserting batches in chromadb: 100%|██████████| 9/9 [01:16<00:00,  8.46s/it]\n",
      "Inserting batches in chromadb: 100%|██████████| 20/20 [02:55<00:00,  8.79s/it]\n",
      "Inserting batches in chromadb: 100%|██████████| 20/20 [02:54<00:00,  8.72s/it]\n",
      "Inserting batches in chromadb: 100%|██████████| 14/14 [02:06<00:00,  9.02s/it]\n",
      "Inserting batches in chromadb: 100%|██████████| 8/8 [01:08<00:00,  8.54s/it]\n",
      "Inserting batches in chromadb: 100%|██████████| 7/7 [00:58<00:00,  8.34s/it]\n",
      "Inserting batches in chromadb: 100%|██████████| 19/19 [02:51<00:00,  9.00s/it]\n"
     ]
    }
   ],
   "source": [
    "from agents import get_med_crew"
   ]
  },
  {
   "cell_type": "code",
   "execution_count": null,
   "id": "1dfb9349-6056-410e-a107-1080eba527b5",
   "metadata": {
    "tags": []
   },
   "outputs": [],
   "source": [
    "diagnose_crew = get_med_crew()"
   ]
  },
  {
   "cell_type": "code",
   "execution_count": 11,
   "id": "8a703fab-913d-49c9-971d-0f3f3dce7d97",
   "metadata": {
    "tags": []
   },
   "outputs": [],
   "source": [
    "import gradio as gr\n",
    "from gradio import ChatMessage"
   ]
  },
  {
   "cell_type": "code",
   "execution_count": 22,
   "id": "f9fda4db-67a6-4b05-a4a2-accc4a893052",
   "metadata": {
    "tags": []
   },
   "outputs": [
    {
     "name": "stdout",
     "output_type": "stream",
     "text": [
      "\u001b[1m\u001b[95m [2024-08-24 13:00:26][DEBUG]: == Working Agent: A hospital nurse\u001b[00m\n",
      "\u001b[1m\u001b[95m [2024-08-24 13:00:26][INFO]: == Starting Task: Given this chat history between you and the patient: \"None yet\" .Highlight important symptoms. You will collect patient information by asking questions. You will output a question for further precision. If enough information has been recieved, report the information in a bullet point format to the doctor. Avoid adding unnecessary syntax like quotation and asterisks marks. Ensure to never repeat questions. \u001b[00m\n",
      "\n",
      "\n",
      "\u001b[1m> Entering new CrewAgentExecutor chain...\u001b[0m\n",
      "\u001b[32;1m\u001b[1;3mThought: I should start by asking about the main reason for the patient's visit.\n",
      "Final Answer: What is the primary symptom or health issue that brought you to seek medical attention today? True\u001b[0m\n",
      "\n",
      "\u001b[1m> Finished chain.\u001b[0m\n",
      "\u001b[1m\u001b[92m [2024-08-24 13:00:28][DEBUG]: == [A hospital nurse] Task output: What is the primary symptom or health issue that brought you to seek medical attention today? True\n",
      "\n",
      "\u001b[00m\n",
      "Running on local URL:  http://127.0.0.1:7867\n",
      "Running on public URL: https://4a42af3ec9ca9add52.gradio.live\n",
      "\n",
      "This share link expires in 72 hours. For free permanent hosting and GPU upgrades, run `gradio deploy` from Terminal to deploy to Spaces (https://huggingface.co/spaces)\n"
     ]
    },
    {
     "data": {
      "text/html": [
       "<div><iframe src=\"https://4a42af3ec9ca9add52.gradio.live\" width=\"100%\" height=\"500\" allow=\"autoplay; camera; microphone; clipboard-read; clipboard-write;\" frameborder=\"0\" allowfullscreen></iframe></div>"
      ],
      "text/plain": [
       "<IPython.core.display.HTML object>"
      ]
     },
     "metadata": {},
     "output_type": "display_data"
    },
    {
     "data": {
      "text/plain": []
     },
     "execution_count": 22,
     "metadata": {},
     "output_type": "execute_result"
    },
    {
     "name": "stdout",
     "output_type": "stream",
     "text": [
      "[['yowl', None]]\n",
      "\u001b[1m\u001b[95m [2024-08-24 13:00:36][DEBUG]: == Working Agent: A hospital nurse\u001b[00m\n",
      "\u001b[1m\u001b[95m [2024-08-24 13:00:36][INFO]: == Starting Task: Given this chat history between you and the patient: \"None Yet\" .Highlight important symptoms. You will collect patient information by asking questions. You will output a question for further precision. If enough information has been recieved, report the information in a bullet point format to the doctor. Avoid adding unnecessary syntax like quotation and asterisks marks. Ensure to never repeat questions. \u001b[00m\n",
      "\n",
      "\n",
      "\u001b[1m> Entering new CrewAgentExecutor chain...\u001b[0m\n",
      "\u001b[32;1m\u001b[1;3mThought: I need to start by asking about the primary reason for the patient's visit.\n",
      "Final Answer: Can you tell me what brings you to the hospital today? True\u001b[0m\n",
      "\n",
      "\u001b[1m> Finished chain.\u001b[0m\n",
      "\u001b[1m\u001b[92m [2024-08-24 13:00:38][DEBUG]: == [A hospital nurse] Task output: Can you tell me what brings you to the hospital today? True\n",
      "\n",
      "\u001b[00m\n",
      "[['ewefiuawfhaiufaefeofhiaef', None]]\n",
      "\u001b[1m\u001b[95m [2024-08-24 13:01:00][DEBUG]: == Working Agent: A hospital nurse\u001b[00m\n",
      "\u001b[1m\u001b[95m [2024-08-24 13:01:00][INFO]: == Starting Task: Given this chat history between you and the patient: \"None Yet\" .Highlight important symptoms. You will collect patient information by asking questions. You will output a question for further precision. If enough information has been recieved, report the information in a bullet point format to the doctor. Avoid adding unnecessary syntax like quotation and asterisks marks. Ensure to never repeat questions. \u001b[00m\n",
      "\n",
      "\n",
      "\u001b[1m> Entering new CrewAgentExecutor chain...\u001b[0m\n",
      "\u001b[32;1m\u001b[1;3mThought: I should start by asking about the main symptom or complaint that brought the patient to seek care.\n",
      "Final Answer: Can you tell me what specific symptom or health issue has prompted you to reach out today? True\u001b[0m\n",
      "\n",
      "\u001b[1m> Finished chain.\u001b[0m\n",
      "\u001b[1m\u001b[92m [2024-08-24 13:01:01][DEBUG]: == [A hospital nurse] Task output: Can you tell me what specific symptom or health issue has prompted you to reach out today? True\n",
      "\n",
      "\u001b[00m\n",
      "[['afeaifea', None]]\n",
      "\u001b[1m\u001b[95m [2024-08-24 13:01:08][DEBUG]: == Working Agent: A hospital nurse\u001b[00m\n",
      "\u001b[1m\u001b[95m [2024-08-24 13:01:08][INFO]: == Starting Task: Given this chat history between you and the patient: \"None Yet\" .Highlight important symptoms. You will collect patient information by asking questions. You will output a question for further precision. If enough information has been recieved, report the information in a bullet point format to the doctor. Avoid adding unnecessary syntax like quotation and asterisks marks. Ensure to never repeat questions. \u001b[00m\n",
      "\n",
      "\n",
      "\u001b[1m> Entering new CrewAgentExecutor chain...\u001b[0m\n",
      "\u001b[32;1m\u001b[1;3mThought: I need to start by asking about the main symptom or reason for the patient's visit.\n",
      "Final Answer: Can you tell me what brings you to seek medical care today? True\u001b[0m\n",
      "\n",
      "\u001b[1m> Finished chain.\u001b[0m\n",
      "\u001b[1m\u001b[92m [2024-08-24 13:01:09][DEBUG]: == [A hospital nurse] Task output: Can you tell me what brings you to seek medical care today? True\n",
      "\n",
      "\u001b[00m\n",
      "[['afeafoiehfiuehfui', None]]\n",
      "\u001b[1m\u001b[95m [2024-08-24 13:01:14][DEBUG]: == Working Agent: A hospital nurse\u001b[00m\n",
      "\u001b[1m\u001b[95m [2024-08-24 13:01:14][INFO]: == Starting Task: Given this chat history between you and the patient: \"None Yet\" .Highlight important symptoms. You will collect patient information by asking questions. You will output a question for further precision. If enough information has been recieved, report the information in a bullet point format to the doctor. Avoid adding unnecessary syntax like quotation and asterisks marks. Ensure to never repeat questions. \u001b[00m\n",
      "\n",
      "\n",
      "\u001b[1m> Entering new CrewAgentExecutor chain...\u001b[0m\n"
     ]
    }
   ],
   "source": [
    "import random\n",
    "import torch\n",
    "\n",
    "def filter_ans(ans):\n",
    "    return ans.strip(\"\\\"* \").removeprefix(keyword).removesuffix(keyword).strip(\"\\\"* \")\n",
    "    \n",
    "def response(message, history):\n",
    "    q_and_ans = []\n",
    "    history = history[-10:]\n",
    "    history += [[message, None]]\n",
    "    for i in range(len(history)-1):\n",
    "        q_and_ans.append(' '.join([history[i][1], history[i+1][0]]))\n",
    "    \n",
    "    print(history)\n",
    "    history_str = '\\n'.join(q_and_ans)\n",
    "    if history_str == \"\": history_str = \"None Yet\"\n",
    "    answer = prompt_crew.kickoff(inputs={'history': history_str}).raw\n",
    "    if keyword not in answer:\n",
    "        return filter_ans(diagnose_crew.kickoff(inputs={'symptoms': answer}).raw)\n",
    "    \n",
    "    return filter_ans(answer)\n",
    "\n",
    "def init_convo():\n",
    "    return filter_ans(prompt_crew.kickoff(inputs={'history': \"None yet\"}).raw)\n",
    "\n",
    "gr.ChatInterface(\n",
    "    response,\n",
    "    chatbot=gr.Chatbot([(None, init_convo())])\n",
    ").launch(share=True)"
   ]
  },
  {
   "cell_type": "code",
   "execution_count": 40,
   "id": "edeeab50-2cfb-40b6-87d5-b45d30fb9f94",
   "metadata": {},
   "outputs": [
    {
     "ename": "UnicodeDecodeError",
     "evalue": "'utf-8' codec can't decode byte 0xe2 in position 10: invalid continuation byte",
     "output_type": "error",
     "traceback": [
      "\u001b[0;31m---------------------------------------------------------------------------\u001b[0m",
      "\u001b[0;31mUnicodeDecodeError\u001b[0m                        Traceback (most recent call last)",
      "Cell \u001b[0;32mIn[40], line 2\u001b[0m\n\u001b[1;32m      1\u001b[0m \u001b[38;5;28;01mwith\u001b[39;00m \u001b[38;5;28mopen\u001b[39m(\u001b[38;5;124m\"\u001b[39m\u001b[38;5;124m./Docs/Symptom_collection.pdf\u001b[39m\u001b[38;5;124m\"\u001b[39m) \u001b[38;5;28;01mas\u001b[39;00m f:\n\u001b[0;32m----> 2\u001b[0m     \u001b[43mf\u001b[49m\u001b[38;5;241;43m.\u001b[39;49m\u001b[43mread\u001b[49m\u001b[43m(\u001b[49m\u001b[43m)\u001b[49m\n",
      "File \u001b[0;32m<frozen codecs>:322\u001b[0m, in \u001b[0;36mdecode\u001b[0;34m(self, input, final)\u001b[0m\n",
      "\u001b[0;31mUnicodeDecodeError\u001b[0m: 'utf-8' codec can't decode byte 0xe2 in position 10: invalid continuation byte"
     ]
    }
   ],
   "source": []
  },
  {
   "cell_type": "code",
   "execution_count": null,
   "id": "a46d9cd7-3d35-4a29-83f4-e8bf5b1ba4b2",
   "metadata": {},
   "outputs": [],
   "source": []
  }
 ],
 "metadata": {
  "kernelspec": {
   "display_name": "Python 3 (ipykernel)",
   "language": "python",
   "name": "python3"
  },
  "language_info": {
   "codemirror_mode": {
    "name": "ipython",
    "version": 3
   },
   "file_extension": ".py",
   "mimetype": "text/x-python",
   "name": "python",
   "nbconvert_exporter": "python",
   "pygments_lexer": "ipython3",
   "version": "3.11.7"
  }
 },
 "nbformat": 4,
 "nbformat_minor": 5
}
