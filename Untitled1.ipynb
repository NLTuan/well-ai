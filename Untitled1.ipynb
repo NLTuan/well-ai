{
 "cells": [
  {
   "cell_type": "code",
   "execution_count": 5,
   "id": "3f216cc1-ea63-4a0c-baf5-2fb8402af48d",
   "metadata": {
    "tags": []
   },
   "outputs": [],
   "source": [
    "import crewai, crewai_tools\n",
    "from langchain_community.llms import Ollama"
   ]
  },
  {
   "cell_type": "code",
   "execution_count": 24,
   "id": "d9a407d7-2873-4b0b-80d9-6680bf249e96",
   "metadata": {
    "tags": []
   },
   "outputs": [
    {
     "name": "stderr",
     "output_type": "stream",
     "text": [
      "2024-08-12 11:30:00,133 - 140606453723136 - __init__.py-__init__:531 - WARNING: Overriding of current TracerProvider is not allowed\n"
     ]
    }
   ],
   "source": [
    "from crewai import Agent, Task, Crew, Process\n",
    "\n",
    "llm = Ollama(model='llama3')\n",
    "\n",
    "nurse = Agent(\n",
    "    role=\"A hospital nurse\",\n",
    "    goal=\"Your goal is to collect patient information and symptoms\",\n",
    "    backstory=\"You are a nurse working at a hospital recieving emergency room patients.\",\n",
    "    verbose=True,\n",
    "    allow_delegation=False,\n",
    "    llm=llm\n",
    ")\n",
    "\n",
    "collect_info = Task(\n",
    "    description=(\"Given the patients input: {input}. You will collect patient information. You will return a question for further precision if needed.\"),\n",
    "    expected_output=\"A report of the patient's symptoms from most severe to least severe, keep it simple and close to the patient's inputs. \"\n",
    "    \"Return a question only, if the patient\",\n",
    "    agent=nurse\n",
    ")\n",
    "\n",
    "crew = Crew(\n",
    "    agents=[nurse],\n",
    "    tasks=[collect_info],\n",
    "    process=Process.sequential\n",
    ")"
   ]
  },
  {
   "cell_type": "code",
   "execution_count": 26,
   "id": "ac4d1cf2-e880-4f4f-bea5-489867c4fd48",
   "metadata": {
    "tags": []
   },
   "outputs": [
    {
     "name": "stdout",
     "output_type": "stream",
     "text": [
      "\n",
      "\n",
      "\u001b[1m> Entering new CrewAgentExecutor chain...\u001b[0m\n",
      "\u001b[32;1m\u001b[1;3m\u001b[0m\u001b[32;1m\u001b[1;3mI'll do it right this time!\n",
      "\n",
      "Thought: I now can give a great answer\n",
      "\n",
      "\n",
      "Action: Collect patient information and symptoms\n",
      "\n",
      "\n",
      "Final Answer:\n",
      "\n",
      "Patient's Symptoms (from most severe to least severe):\n",
      "\n",
      "* Coughing up blood\n",
      "\n",
      "Please provide further details about the coughing, such as how often is it happening, has there been any recent travel or exposure to anyone with similar symptoms?\u001b[0m\n",
      "\n",
      "\u001b[1m> Finished chain.\u001b[0m\n"
     ]
    },
    {
     "data": {
      "text/plain": [
       "CrewOutput(raw=\"Patient's Symptoms (from most severe to least severe):\\n\\n* Coughing up blood\\n\\nPlease provide further details about the coughing, such as how often is it happening, has there been any recent travel or exposure to anyone with similar symptoms?\", pydantic=None, json_dict=None, tasks_output=[TaskOutput(description='Given the patients input: I am coughing up blood. You will collect patient information. You will return a question for further precision if needed.', summary='Given the patients input: I am coughing up blood. You...', raw=\"Patient's Symptoms (from most severe to least severe):\\n\\n* Coughing up blood\\n\\nPlease provide further details about the coughing, such as how often is it happening, has there been any recent travel or exposure to anyone with similar symptoms?\", pydantic=None, json_dict=None, agent='A hospital nurse', output_format=<OutputFormat.RAW: 'raw'>)], token_usage=UsageMetrics(total_tokens=0, prompt_tokens=0, completion_tokens=0, successful_requests=0))"
      ]
     },
     "execution_count": 26,
     "metadata": {},
     "output_type": "execute_result"
    }
   ],
   "source": [
    "crew.kickoff(inputs={'input': \"I am coughing up blood\"})"
   ]
  },
  {
   "cell_type": "code",
   "execution_count": null,
   "id": "a6ac366e-8392-43ec-b7eb-b37464eaa890",
   "metadata": {},
   "outputs": [],
   "source": []
  }
 ],
 "metadata": {
  "kernelspec": {
   "display_name": "Python 3 (ipykernel)",
   "language": "python",
   "name": "python3"
  },
  "language_info": {
   "codemirror_mode": {
    "name": "ipython",
    "version": 3
   },
   "file_extension": ".py",
   "mimetype": "text/x-python",
   "name": "python",
   "nbconvert_exporter": "python",
   "pygments_lexer": "ipython3",
   "version": "3.11.7"
  }
 },
 "nbformat": 4,
 "nbformat_minor": 5
}
