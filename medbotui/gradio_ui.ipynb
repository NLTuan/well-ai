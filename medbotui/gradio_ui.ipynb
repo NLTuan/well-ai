{
 "cells": [
  {
   "cell_type": "code",
   "execution_count": 29,
   "id": "37798348-cc33-4dbc-a72e-a51fb12884c8",
   "metadata": {
    "tags": []
   },
   "outputs": [],
   "source": [
    "import gradio as gr\n",
    "from gradio import ChatMessage"
   ]
  },
  {
   "cell_type": "code",
   "execution_count": 62,
   "id": "2568702e-8745-49ab-9763-c33f61f3ec2e",
   "metadata": {
    "tags": []
   },
   "outputs": [
    {
     "name": "stderr",
     "output_type": "stream",
     "text": [
      "/usr/local/lib/python3.11/dist-packages/gradio/utils.py:1002: UserWarning: Expected 1 arguments for function <function send_bot_message at 0x7f524859c860>, received 0.\n",
      "  warnings.warn(\n",
      "/usr/local/lib/python3.11/dist-packages/gradio/utils.py:1006: UserWarning: Expected at least 1 arguments for function <function send_bot_message at 0x7f524859c860>, received 0.\n",
      "  warnings.warn(\n"
     ]
    },
    {
     "name": "stdout",
     "output_type": "stream",
     "text": [
      "Running on local URL:  http://127.0.0.1:7895\n",
      "Running on public URL: https://c3fd592adb908fc48c.gradio.live\n",
      "\n",
      "This share link expires in 72 hours. For free permanent hosting and GPU upgrades, run `gradio deploy` from Terminal to deploy to Spaces (https://huggingface.co/spaces)\n"
     ]
    },
    {
     "data": {
      "text/html": [
       "<div><iframe src=\"https://c3fd592adb908fc48c.gradio.live\" width=\"100%\" height=\"500\" allow=\"autoplay; camera; microphone; clipboard-read; clipboard-write;\" frameborder=\"0\" allowfullscreen></iframe></div>"
      ],
      "text/plain": [
       "<IPython.core.display.HTML object>"
      ]
     },
     "metadata": {},
     "output_type": "display_data"
    },
    {
     "data": {
      "text/plain": []
     },
     "execution_count": 62,
     "metadata": {},
     "output_type": "execute_result"
    },
    {
     "name": "stderr",
     "output_type": "stream",
     "text": [
      "/usr/local/lib/python3.11/dist-packages/gradio/helpers.py:978: UserWarning: Unexpected argument. Filling with None.\n",
      "  warnings.warn(\"Unexpected argument. Filling with None.\")\n"
     ]
    }
   ],
   "source": [
    "import gradio as gr\n",
    "\n",
    "class Chatbot:\n",
    "    def __init__(self):\n",
    "        self.messages = []\n",
    "\n",
    "    def add_message(self, role, content):\n",
    "        self.messages.append((role, content))\n",
    "        return self.messages\n",
    "\n",
    "    def user_message(self, message):\n",
    "        return self.add_message(\"human\", message)\n",
    "\n",
    "    def bot_message(self, message):\n",
    "        return self.add_message(None, message)\n",
    "\n",
    "    def trigger(self, message):\n",
    "        return self.add_message(None, message)\n",
    "chatbot = Chatbot()\n",
    "\n",
    "def send_bot_message(message):\n",
    "    \n",
    "    return chatbot.bot_message(message)\n",
    "\n",
    "with gr.Blocks() as demo:\n",
    "    chat_interface = gr.Chatbot()\n",
    "    \n",
    "    user_input = gr.Textbox(label=\"User message\")\n",
    "    user_input.submit(chatbot.user_message, inputs=user_input, outputs=chat_interface)\n",
    "\n",
    "    # This function allows sending bot messages programmatically\n",
    "    demo.load(send_bot_message, inputs=None, outputs=chat_interface)\n",
    "\n",
    "demo.launch(share=True)"
   ]
  },
  {
   "cell_type": "code",
   "execution_count": 75,
   "id": "9349cc8f-588f-49e6-8892-07a50fc0440a",
   "metadata": {
    "tags": []
   },
   "outputs": [],
   "source": [
    "send_bot_message(\"Hello, I'm the bot!\")\n",
    "with gr.Blocks() as demo:\n",
    "    chat_interface = gr.Chatbot()\n",
    "    \n",
    "    user_input = gr.Textbox(label=\"User message\")\n",
    "    user_input.submit(chatbot.trigger, inputs=None, outputs=chat_interface)\n",
    "    demo.load(send_bot_message, inputs=None, outputs=chat_interface)\n"
   ]
  },
  {
   "cell_type": "code",
   "execution_count": 76,
   "id": "de7d459f-e46f-48c6-8470-a7a4fc491cbb",
   "metadata": {
    "tags": []
   },
   "outputs": [
    {
     "data": {
      "text/plain": [
       "[(None, None),\n",
       " (None, \"Hello, I'm the bot!\"),\n",
       " ('human', 'ds'),\n",
       " ('human', 'ds'),\n",
       " ('human', 'ds'),\n",
       " ('human', 'ds'),\n",
       " (None, \"Hello, I'm the bot!\"),\n",
       " (None, \"Hello, I'm the bot!\"),\n",
       " ('human', 'ds'),\n",
       " ('human', 'ds'),\n",
       " (None, \"Hello, I'm the bot!\"),\n",
       " (None, \"Hello, I'm the bot!\"),\n",
       " (None, \"Hello, I'm the bot!\"),\n",
       " (None, \"Hello, I'm the bot!\"),\n",
       " (None, \"Hello, I'm the bot!\"),\n",
       " (None, \"Hello, I'm the bot!\"),\n",
       " (None, \"Hello, I'm the bot!\")]"
      ]
     },
     "execution_count": 76,
     "metadata": {},
     "output_type": "execute_result"
    }
   ],
   "source": [
    "chatbot.messages"
   ]
  },
  {
   "cell_type": "code",
   "execution_count": null,
   "id": "7d507135-0062-461b-845f-515c07c3eb56",
   "metadata": {},
   "outputs": [],
   "source": []
  }
 ],
 "metadata": {
  "kernelspec": {
   "display_name": "Python 3 (ipykernel)",
   "language": "python",
   "name": "python3"
  },
  "language_info": {
   "codemirror_mode": {
    "name": "ipython",
    "version": 3
   },
   "file_extension": ".py",
   "mimetype": "text/x-python",
   "name": "python",
   "nbconvert_exporter": "python",
   "pygments_lexer": "ipython3",
   "version": "3.11.7"
  }
 },
 "nbformat": 4,
 "nbformat_minor": 5
}
