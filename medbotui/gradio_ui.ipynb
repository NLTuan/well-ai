{
 "cells": [
  {
   "cell_type": "code",
   "execution_count": 2,
   "id": "37798348-cc33-4dbc-a72e-a51fb12884c8",
   "metadata": {
    "tags": []
   },
   "outputs": [],
   "source": [
    "import gradio as gr\n",
    "from gradio import ChatMessage"
   ]
  },
  {
   "cell_type": "code",
   "execution_count": 4,
   "id": "2568702e-8745-49ab-9763-c33f61f3ec2e",
   "metadata": {
    "tags": []
   },
   "outputs": [
    {
     "name": "stdout",
     "output_type": "stream",
     "text": [
      "Running on local URL:  http://127.0.0.1:7861\n",
      "Running on public URL: https://0d912cc9dd0d01dec8.gradio.live\n",
      "\n",
      "This share link expires in 72 hours. For free permanent hosting and GPU upgrades, run `gradio deploy` from Terminal to deploy to Spaces (https://huggingface.co/spaces)\n"
     ]
    },
    {
     "data": {
      "text/html": [
       "<div><iframe src=\"https://0d912cc9dd0d01dec8.gradio.live\" width=\"100%\" height=\"500\" allow=\"autoplay; camera; microphone; clipboard-read; clipboard-write;\" frameborder=\"0\" allowfullscreen></iframe></div>"
      ],
      "text/plain": [
       "<IPython.core.display.HTML object>"
      ]
     },
     "metadata": {},
     "output_type": "display_data"
    },
    {
     "data": {
      "text/plain": []
     },
     "execution_count": 4,
     "metadata": {},
     "output_type": "execute_result"
    }
   ],
   "source": [
    "import random\n",
    "\n",
    "def random_response(message, history):\n",
    "    return crew1.kickoff()\n",
    "\n",
    "gr.ChatInterface(random_response).launch(share=True)"
   ]
  },
  {
   "cell_type": "code",
   "execution_count": 75,
   "id": "9349cc8f-588f-49e6-8892-07a50fc0440a",
   "metadata": {
    "tags": []
   },
   "outputs": [],
   "source": [
    "send_bot_message(\"Hello, I'm the bot!\")\n",
    "with gr.Blocks() as demo:\n",
    "    chat_interface = gr.Chatbot()\n",
    "    \n",
    "    user_input = gr.Textbox(label=\"User message\")\n",
    "    user_input.submit(chatbot.trigger, inputs=None, outputs=chat_interface)\n",
    "    demo.load(send_bot_message, inputs=None, outputs=chat_interface)\n"
   ]
  },
  {
   "cell_type": "code",
   "execution_count": 76,
   "id": "de7d459f-e46f-48c6-8470-a7a4fc491cbb",
   "metadata": {
    "tags": []
   },
   "outputs": [
    {
     "data": {
      "text/plain": [
       "[(None, None),\n",
       " (None, \"Hello, I'm the bot!\"),\n",
       " ('human', 'ds'),\n",
       " ('human', 'ds'),\n",
       " ('human', 'ds'),\n",
       " ('human', 'ds'),\n",
       " (None, \"Hello, I'm the bot!\"),\n",
       " (None, \"Hello, I'm the bot!\"),\n",
       " ('human', 'ds'),\n",
       " ('human', 'ds'),\n",
       " (None, \"Hello, I'm the bot!\"),\n",
       " (None, \"Hello, I'm the bot!\"),\n",
       " (None, \"Hello, I'm the bot!\"),\n",
       " (None, \"Hello, I'm the bot!\"),\n",
       " (None, \"Hello, I'm the bot!\"),\n",
       " (None, \"Hello, I'm the bot!\"),\n",
       " (None, \"Hello, I'm the bot!\")]"
      ]
     },
     "execution_count": 76,
     "metadata": {},
     "output_type": "execute_result"
    }
   ],
   "source": [
    "chatbot.messages"
   ]
  },
  {
   "cell_type": "code",
   "execution_count": null,
   "id": "7d507135-0062-461b-845f-515c07c3eb56",
   "metadata": {},
   "outputs": [],
   "source": []
  }
 ],
 "metadata": {
  "kernelspec": {
   "display_name": "Python 3 (ipykernel)",
   "language": "python",
   "name": "python3"
  },
  "language_info": {
   "codemirror_mode": {
    "name": "ipython",
    "version": 3
   },
   "file_extension": ".py",
   "mimetype": "text/x-python",
   "name": "python",
   "nbconvert_exporter": "python",
   "pygments_lexer": "ipython3",
   "version": "3.11.7"
  }
 },
 "nbformat": 4,
 "nbformat_minor": 5
}
