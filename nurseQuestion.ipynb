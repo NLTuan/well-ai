{
 "cells": [
  {
   "cell_type": "code",
   "execution_count": 1,
   "id": "cdd07de2-8d5e-4a3b-81b2-a5b4a2db3a1e",
   "metadata": {
    "tags": []
   },
   "outputs": [
    {
     "name": "stdout",
     "output_type": "stream",
     "text": [
      ">>> Installing ollama to /usr/local\n",
      ">>> Downloading Linux amd64 CLI\n",
      "######################################################################## 100.0%#=#=#                                                                         \n",
      ">>> Making ollama accessible in the PATH in /usr/local/bin\n",
      ">>> Creating ollama user...\n",
      ">>> Adding ollama user to render group...\n",
      ">>> Adding ollama user to video group...\n",
      ">>> Adding current user to ollama group...\n",
      ">>> Creating ollama systemd service...\n",
      "WARNING: Unable to detect NVIDIA/AMD GPU. Install lspci or lshw to automatically detect and install GPU dependencies.\n",
      ">>> The Ollama API is now available at 127.0.0.1:11434.\n",
      ">>> Install complete. Run \"ollama\" from the command line.\n"
     ]
    }
   ],
   "source": [
    "!curl -fsSL https://ollama.com/install.sh | sh"
   ]
  },
  {
   "cell_type": "code",
   "execution_count": 3,
   "id": "e7eae6a6-6cfd-4573-9415-302bbb65174c",
   "metadata": {
    "tags": []
   },
   "outputs": [],
   "source": [
    "from langchain_community.llms import Ollama\n",
    "from IPython.display import Markdown\n",
    "from pathlib import Path"
   ]
  },
  {
   "cell_type": "code",
   "execution_count": 4,
   "id": "a533a5a3-933b-4523-94af-38a12584d4bf",
   "metadata": {
    "tags": []
   },
   "outputs": [
    {
     "name": "stderr",
     "output_type": "stream",
     "text": [
      "/root/.local/lib/python3.11/site-packages/pydantic/_internal/_config.py:341: UserWarning: Valid config keys have changed in V2:\n",
      "* 'allow_population_by_field_name' has been renamed to 'populate_by_name'\n",
      "* 'smart_union' has been removed\n",
      "  warnings.warn(message, UserWarning)\n"
     ]
    }
   ],
   "source": [
    "from crewai import Agent, Task, Crew\n",
    "from crewai_tools import BaseTool\n",
    "\n",
    "class PromptingPatientTool(BaseTool):\n",
    "    name: str = \"Patient Prompting\"\n",
    "    description: str = \"When more information is needed from the patient, use this tool. \"\n",
    "    \"Don't comment on the result afterwards. Do not add anything. Just return the result. \"\n",
    "\n",
    "    def _run(self, question: str) -> str:\n",
    "        # Your tool's logic here\n",
    "        return f\"{question}\"\n",
    "    \n"
   ]
  },
  {
   "cell_type": "markdown",
   "id": "c8f3dfda",
   "metadata": {},
   "source": [
    "### Profile Tool"
   ]
  },
  {
   "cell_type": "code",
   "execution_count": 7,
   "id": "6aba563f",
   "metadata": {
    "tags": []
   },
   "outputs": [],
   "source": [
    "import json\n",
    "from typing import Dict, Any, Optional\n",
    "\n",
    "# Assuming BaseTool definition is available\n",
    "class ProfileTool(BaseTool):\n",
    "    name: str = \"Patient Profile\"\n",
    "    description: str = \"Handles saving and updating patient profiles in JSON format.\"\n",
    "\n",
    "    def _run(self, operation: str, patient_id: Optional[str] = None, updated_info: Optional[Dict[str, Any]] = None, file_path: Optional[str] = \"patient_profile.json\") -> str:\n",
    "        if not patient_id or not updated_info:\n",
    "            return \"Invalid operation or missing parameters.\"\n",
    "\n",
    "        # Load existing profile if it exists\n",
    "        try:\n",
    "            with open(file_path, 'r') as f:\n",
    "                profile = json.load(f)\n",
    "        except FileNotFoundError:\n",
    "            profile = {}\n",
    "            \n",
    "        # Ensure the profile includes all relevant fields\n",
    "        required_fields = {\n",
    "            \"patient_id\": \"\",\n",
    "            \"symptoms\": \"\",\n",
    "            \"medical_history\": {\n",
    "                \"current_medications\": [],\n",
    "                \"lifestyle_factors\": {},\n",
    "                \"allergies\": [],\n",
    "                \"recent_lab_results\": []\n",
    "            },\n",
    "            \"diagnoses\": [],\n",
    "            \"treatment_plan\": {},\n",
    "            \"trigger\": {}\n",
    "        }\n",
    "\n",
    "        # Merge required fields with the provided updated_info\n",
    "        updated_info = {**required_fields, **updated_info}\n",
    "\n",
    "        if operation == \"save\":\n",
    "            # Save or overwrite the profile information\n",
    "            profile[patient_id] = updated_info\n",
    "            message = f\"Profile for patient {patient_id} saved successfully.\"\n",
    "\n",
    "        elif operation == \"update\":\n",
    "            # Update the existing profile or create a new one if it doesn't exist\n",
    "            if patient_id in profile:\n",
    "                profile[patient_id].update(updated_info)\n",
    "                message = f\"Profile for patient {patient_id} updated successfully.\"\n",
    "            else:\n",
    "                profile[patient_id] = updated_info\n",
    "                message = f\"Profile for patient {patient_id} did not exist and has been created.\"\n",
    "\n",
    "        else:\n",
    "            return \"Invalid operation.\"\n",
    "\n",
    "        # Write the profile back to the JSON file\n",
    "        try:\n",
    "            with open(file_path, 'w') as f:\n",
    "                json.dump(profile, f, indent=4)\n",
    "        except IOError as e:\n",
    "            return f\"Failed to save the profile: {str(e)}\"\n",
    "\n",
    "        return message\n",
    "\n",
    "# Example usage:\n",
    "profile_tool = ProfileTool()"
   ]
  },
  {
   "cell_type": "code",
   "execution_count": 12,
   "id": "d6549308-b7f4-4b8f-9590-09731c3b8e3c",
   "metadata": {
    "tags": []
   },
   "outputs": [],
   "source": [
    "from crewai import Agent, Task, Crew, Process\n",
    "from agents import get_med_crew\n",
    "\n",
    "llm = Ollama(model='mistral-nemo')\n",
    "bio_llm = Ollama(model='jsk/bio-mistral')\n",
    "\n",
    "nurse = Agent(\n",
    "    role=\"A hospital nurse\",\n",
    "    goal=\"Your goal is to gather patient information and symptoms by coming up with a single question for the patient to obtain pertinent information.\"\n",
    "    \"You can only output either a question or a summary of the information returned by your tools\",\n",
    "    backstory=\"You are modeled after a seasoned nurse with extensive experience in primary care.\"\n",
    "    \"Been trained on a wide range of medical conditions and symptoms,\"\n",
    "    \"allowing you to ask pertinent questions and recognize key details.\"\n",
    "    \"You effectively elicit and document a comprehensive list of symptoms gathered from patients, ensuring the information is precise and thorough.\"\n",
    "    \"This will help other agents in diagnosing and treating the patient more efficiently.\"\n",
    "    \"Your persona is designed to be empathetic and attentive, reflecting a caring and professional demeanor.\"\n",
    "    \"you are equipped with a robust knowledge base to handle diverse medical queries\"\n",
    "    \"and provide a supportive conversational experience.\",\n",
    "    verbose=True,\n",
    "    allow_delegation=False,\n",
    "    llm=llm\n",
    ")"
   ]
  },
  {
   "cell_type": "code",
   "execution_count": 14,
   "id": "356d175d-b6b2-448b-b879-7fb9b2ec9029",
   "metadata": {
    "tags": []
   },
   "outputs": [],
   "source": [
    "keyword = \"True\"   \n",
    "collect_info = Task(\n",
    "    description=(\"Given this chat history between you and the patient: \\\"{history}\\\" .\"\n",
    "                 \"Highlight important symptoms. \"\n",
    "                 \"You will collect patient information by asking questions. You will output a question for further precision. \"\n",
    "                 \"If enough information has been recieved, report the information in a bullet point format to the doctor. \"\n",
    "                \"Avoid adding unnecessary syntax like quotation and asterisks marks. \"\n",
    "                \"Ensure to never repeat questions. \"),\n",
    "    expected_output=f\"One question about the patient's symptoms. In addition, simply add {keyword} if it is a question for the patient exclusively at the end. Either that, or a bullet list of all of the patient's symptoms. \" ,\n",
    "    tools=[profile_tool],\n",
    "\n",
    "    agent=nurse\n",
    ")"
   ]
  },
  {
   "cell_type": "code",
   "execution_count": 15,
   "id": "b94f2444-8dbd-4f87-925d-838ecd89da5b",
   "metadata": {
    "tags": []
   },
   "outputs": [],
   "source": [
    "prompt_crew = Crew(\n",
    "    agents=[nurse],\n",
    "    tasks=[collect_info],\n",
    "    verbose=True,\n",
    ")\n"
   ]
  },
  {
   "cell_type": "code",
   "execution_count": 16,
   "id": "1dfb9349-6056-410e-a107-1080eba527b5",
   "metadata": {
    "tags": []
   },
   "outputs": [
    {
     "name": "stderr",
     "output_type": "stream",
     "text": [
      "2024-08-24 13:10:27,066 - 140719035224064 - __init__.py-__init__:531 - WARNING: Overriding of current TracerProvider is not allowed\n"
     ]
    }
   ],
   "source": [
    "diagnose_crew = get_med_crew()"
   ]
  },
  {
   "cell_type": "code",
   "execution_count": null,
   "id": "0fe26b6e-5719-4471-92f6-da47e84c949e",
   "metadata": {
    "tags": []
   },
   "outputs": [],
   "source": [
    "diagnose_crew.kickoff(inputs={'symptoms':'pain in lower back, 10/10 severity'})"
   ]
  },
  {
   "cell_type": "code",
   "execution_count": 21,
   "id": "8a703fab-913d-49c9-971d-0f3f3dce7d97",
   "metadata": {
    "tags": []
   },
   "outputs": [],
   "source": [
    "import gradio as gr\n",
    "from gradio import ChatMessage"
   ]
  },
  {
   "cell_type": "code",
   "execution_count": 22,
   "id": "f9fda4db-67a6-4b05-a4a2-accc4a893052",
   "metadata": {
    "tags": []
   },
   "outputs": [
    {
     "name": "stdout",
     "output_type": "stream",
     "text": [
      "\u001b[1m\u001b[95m [2024-08-24 13:15:20][DEBUG]: == Working Agent: A hospital nurse\u001b[00m\n",
      "\u001b[1m\u001b[95m [2024-08-24 13:15:20][INFO]: == Starting Task: Given this chat history between you and the patient: \"None yet\" .Highlight important symptoms. You will collect patient information by asking questions. You will output a question for further precision. If enough information has been recieved, report the information in a bullet point format to the doctor. Avoid adding unnecessary syntax like quotation and asterisks marks. Ensure to never repeat questions. \u001b[00m\n",
      "\n",
      "\n",
      "\u001b[1m> Entering new CrewAgentExecutor chain...\u001b[0m\n",
      "\u001b[32;1m\u001b[1;3mThought: I should start by asking about the patient's primary reason for visiting.\n",
      "Action: Patient Profile\n",
      "Action Input: {\"operation\": \"load\", \"patient_id\": None\u001b[0m\u001b[95m \n",
      "\n",
      "Invalid operation or missing parameters.\n",
      "\u001b[00m\n",
      "\u001b[32;1m\u001b[1;3mThought:\n",
      "Thought: The tool was used incorrectly. I should start by asking about the patient's primary reason for visiting.\n",
      "Action: Patient Profile\n",
      "Action Input: {\"operation\": \"load\", \"patient_id\": None\u001b[0m\u001b[95m \n",
      "\n",
      "I tried reusing the same input, I must stop using this action input. I'll try something else instead.\n",
      "\n",
      "\n",
      "\u001b[00m\n",
      "\u001b[32;1m\u001b[1;3mThought:\n",
      "Thought: I should ask an open-ended question to start gathering information.\n",
      "Final Answer: Can you tell me what brings you to the hospital today? True\u001b[0m\n",
      "\n",
      "\u001b[1m> Finished chain.\u001b[0m\n",
      "\u001b[1m\u001b[92m [2024-08-24 13:15:24][DEBUG]: == [A hospital nurse] Task output: Can you tell me what brings you to the hospital today? True\n",
      "\n",
      "\u001b[00m\n",
      "Running on local URL:  http://127.0.0.1:7862\n",
      "Running on public URL: https://625e228a116cdbb95a.gradio.live\n",
      "\n",
      "This share link expires in 72 hours. For free permanent hosting and GPU upgrades, run `gradio deploy` from Terminal to deploy to Spaces (https://huggingface.co/spaces)\n"
     ]
    },
    {
     "data": {
      "text/html": [
       "<div><iframe src=\"https://625e228a116cdbb95a.gradio.live\" width=\"100%\" height=\"500\" allow=\"autoplay; camera; microphone; clipboard-read; clipboard-write;\" frameborder=\"0\" allowfullscreen></iframe></div>"
      ],
      "text/plain": [
       "<IPython.core.display.HTML object>"
      ]
     },
     "metadata": {},
     "output_type": "display_data"
    },
    {
     "data": {
      "text/plain": []
     },
     "execution_count": 22,
     "metadata": {},
     "output_type": "execute_result"
    },
    {
     "name": "stdout",
     "output_type": "stream",
     "text": [
      "\u001b[1m\u001b[95m [2024-08-24 13:16:01][DEBUG]: == Working Agent: A hospital nurse\u001b[00m\n",
      "\u001b[1m\u001b[95m [2024-08-24 13:16:01][INFO]: == Starting Task: Given this chat history between you and the patient: \"Can you tell me what brings you to the hospital today? i have a cut on my hand\" .Highlight important symptoms. You will collect patient information by asking questions. You will output a question for further precision. If enough information has been recieved, report the information in a bullet point format to the doctor. Avoid adding unnecessary syntax like quotation and asterisks marks. Ensure to never repeat questions. \u001b[00m\n",
      "\n",
      "\n",
      "\u001b[1m> Entering new CrewAgentExecutor chain...\u001b[0m\n",
      "\u001b[32;1m\u001b[1;3mAction: Patient Profile\n",
      "Action Input: {\"operation\": \"read\", \"patient_id\": \"1\u001b[0m\u001b[95m \n",
      "\n",
      "Invalid operation or missing parameters.\n",
      "\u001b[00m\n",
      "\u001b[32;1m\u001b[1;3mThought:\n",
      "Action: Patient Profile\n",
      "Action Input: {\"operation\": \"create\", \"patient_id\": \"1\", \"updated_info\": {\"reason_for_visit\": \"Cut on hand\"\u001b[0m\u001b[95m \n",
      "\n",
      "Invalid operation.\n",
      "\u001b[00m\n",
      "\u001b[32;1m\u001b[1;3mThought:\n",
      "Action: Patient Profile\n",
      "Action Input: {\"operation\": \"create\", \"patient_id\": \"1\", \"updated_info\": {\"reason_for_visit\": \"Cut on hand\"\u001b[0m\u001b[95m \n",
      "\n",
      "I tried reusing the same input, I must stop using this action input. I'll try something else instead.\n",
      "\n",
      "\n",
      "\u001b[00m\n",
      "\u001b[32;1m\u001b[1;3m\u001b[0m\u001b[32;1m\u001b[1;3mThought:\n",
      "How can I determine the severity of the cut? When was the injury sustained?\n",
      "Action: Patient Profile\n",
      "Action Input: {\"operation\": \"update\", \"patient_id\": \"1\", \"updated_info\": {\"question_to_ask\": \"Can you tell me when did you sustain this cut and how severe is it?\"\u001b[0m\u001b[95m \n",
      "\n",
      "Profile for patient 1 did not exist and has been created.\n",
      "\u001b[00m\n",
      "\u001b[32;1m\u001b[1;3m**Final Answer:**\n",
      "\n",
      "- What is the approximate length of the cut on your hand?\n",
      "- True\u001b[0m\n",
      "\n",
      "\u001b[1m> Finished chain.\u001b[0m\n",
      "\u001b[1m\u001b[92m [2024-08-24 13:16:08][DEBUG]: == [A hospital nurse] Task output: **\n",
      "\n",
      "- What is the approximate length of the cut on your hand?\n",
      "- True\n",
      "\n",
      "\u001b[00m\n",
      "\u001b[1m\u001b[95m [2024-08-24 13:16:28][DEBUG]: == Working Agent: A hospital nurse\u001b[00m\n",
      "\u001b[1m\u001b[95m [2024-08-24 13:16:28][INFO]: == Starting Task: Given this chat history between you and the patient: \"Can you tell me what brings you to the hospital today? i have a cut on my hand\n",
      "- What is the approximate length of the cut on your hand?\n",
      "- it is like 20 cms\" .Highlight important symptoms. You will collect patient information by asking questions. You will output a question for further precision. If enough information has been recieved, report the information in a bullet point format to the doctor. Avoid adding unnecessary syntax like quotation and asterisks marks. Ensure to never repeat questions. \u001b[00m\n",
      "\n",
      "\n",
      "\u001b[1m> Entering new CrewAgentExecutor chain...\u001b[0m\n",
      "\u001b[32;1m\u001b[1;3mThought: I need more details about the cut.\n",
      "Action: Patient Profile\n",
      "Action Input: {\"operation\": \"update\", \"patient_id\": \"123\", \"updated_info\": {\"symptoms\": [\"Cut on hand\"]\u001b[0m\u001b[95m \n",
      "\n",
      "Profile for patient 123 did not exist and has been created.\n",
      "\u001b[00m\n",
      "\u001b[32;1m\u001b[1;3m\u001b[0m\u001b[32;1m\u001b[1;3mThought: The patient has mentioned a cut on their hand but hasn't specified how it happened or if there's any pain or infection.\n",
      "Action: Patient Profile\n",
      "Action Input: {\"operation\": \"update\", \"patient_id\": \"123\", \"updated_info\": {\"symptoms\": [\"Cut on hand\"]\u001b[0m\u001b[95m \n",
      "\n",
      "I tried reusing the same input, I must stop using this action input. I'll try something else instead.\n",
      "\n",
      "\n",
      "\u001b[00m\n",
      "\u001b[32;1m\u001b[1;3mThought: Ask for more details about how the cut occurred.\n",
      "Final Answer: How did you sustain this 20 cm cut on your hand? True\u001b[0m\n",
      "\n",
      "\u001b[1m> Finished chain.\u001b[0m\n",
      "\u001b[1m\u001b[92m [2024-08-24 13:16:35][DEBUG]: == [A hospital nurse] Task output: How did you sustain this 20 cm cut on your hand? True\n",
      "\n",
      "\u001b[00m\n",
      "\u001b[1m\u001b[95m [2024-08-24 13:16:49][DEBUG]: == Working Agent: A hospital nurse\u001b[00m\n",
      "\u001b[1m\u001b[95m [2024-08-24 13:16:49][INFO]: == Starting Task: Given this chat history between you and the patient: \"Can you tell me what brings you to the hospital today? i have a cut on my hand\n",
      "- What is the approximate length of the cut on your hand?\n",
      "- it is like 20 cms\n",
      "How did you sustain this 20 cm cut on your hand? knife\" .Highlight important symptoms. You will collect patient information by asking questions. You will output a question for further precision. If enough information has been recieved, report the information in a bullet point format to the doctor. Avoid adding unnecessary syntax like quotation and asterisks marks. Ensure to never repeat questions. \u001b[00m\n",
      "\n",
      "\n",
      "\u001b[1m> Entering new CrewAgentExecutor chain...\u001b[0m\n",
      "\u001b[32;1m\u001b[1;3mAction: Patient Profile\n",
      "Action Input: {\"operation\": \"read\", \"patient_id\": \"123\u001b[0m\u001b[95m \n",
      "\n",
      "Invalid operation or missing parameters.\n",
      "\u001b[00m\n",
      "\u001b[32;1m\u001b[1;3mThought:\n",
      "Action: Patient Profile\n",
      "Action Input: {\"operation\": \"create\", \"patient_id\": \"123\", \"updated_info\": {\"symptoms\": [\"Cut on hand (20 cm) sustained by knife\"]\u001b[0m\u001b[95m \n",
      "\n",
      "Invalid operation.\n",
      "\u001b[00m\n",
      "\u001b[32;1m\u001b[1;3m\u001b[0m\u001b[32;1m\u001b[1;3mThought:\n",
      "Action: Patient Profile\n",
      "Action Input: {\"operation\": \"create\", \"patient_id\": \"123\", \"updated_info\": {\"symptoms\": [\"Cut on hand (20 cm) sustained by knife\"]\u001b[0m\u001b[95m \n",
      "\n",
      "I tried reusing the same input, I must stop using this action input. I'll try something else instead.\n",
      "\n",
      "\n",
      "\u001b[00m\n",
      "\u001b[32;1m\u001b[1;3mThought:\n",
      "Action: Patient Profile\n",
      "Action Input: {\"operation\": \"create\", \"patient_id\": \"123\", \"updated_info\": {\"symptoms\": [\"Cut on hand (20 cm) sustained by knife\"]\u001b[0m\u001b[95m \n",
      "\n",
      "I tried reusing the same input, I must stop using this action input. I'll try something else instead.\n",
      "\n",
      "\n",
      "\u001b[00m\n",
      "\u001b[32;1m\u001b[1;3mThought:\n",
      "Action: Patient Profile\n",
      "Action Input: {\"operation\": \"create\", \"patient_id\": \"123\", \"updated_info\": {\"symptoms\": [\"Cut on hand, 20 cm in length\"]\u001b[0m\u001b[95m \n",
      "\n",
      "Invalid operation.\n",
      "\u001b[00m\n",
      "\u001b[32;1m\u001b[1;3m**Thought:** The patient has mentioned a 20 cm cut on their hand sustained by a knife. To gather more precise information, I should ask about pain and other symptoms related to the injury.\n",
      "\n",
      "**Action:** None (No further action needed with Patient Profile tool)\n",
      "\n",
      "**Observation:** N/A\n",
      "\n",
      "**Final Answer:**\n",
      "- Pain level in the injured area? True\u001b[0m\n",
      "\n",
      "\u001b[1m> Finished chain.\u001b[0m\n",
      "\u001b[1m\u001b[92m [2024-08-24 13:17:01][DEBUG]: == [A hospital nurse] Task output: **\n",
      "- Pain level in the injured area? True\n",
      "\n",
      "\u001b[00m\n",
      "\u001b[1m\u001b[95m [2024-08-24 13:17:06][DEBUG]: == Working Agent: A hospital nurse\u001b[00m\n",
      "\u001b[1m\u001b[95m [2024-08-24 13:17:06][INFO]: == Starting Task: Given this chat history between you and the patient: \"None yet\" .Highlight important symptoms. You will collect patient information by asking questions. You will output a question for further precision. If enough information has been recieved, report the information in a bullet point format to the doctor. Avoid adding unnecessary syntax like quotation and asterisks marks. Ensure to never repeat questions. \u001b[00m\n",
      "\n",
      "\n",
      "\u001b[1m> Entering new CrewAgentExecutor chain...\u001b[0m\n",
      "\u001b[32;1m\u001b[1;3mThought: I should start by asking about the main reason for the patient's visit.\n",
      "Action: Patient Profile\n",
      "Action Input: {'operation': 'get', 'patient_id': None\u001b[0m\u001b[95m \n",
      "\n",
      "Invalid operation or missing parameters.\n",
      "\u001b[00m\n",
      "\u001b[32;1m\u001b[1;3mThought: Since there is no existing patient profile, I'll start with an open-ended question to understand the patient's main concern.\n",
      "Final Answer: Can you please tell me why you've come to see us today? True\u001b[0m\n",
      "\n",
      "\u001b[1m> Finished chain.\u001b[0m\n",
      "\u001b[1m\u001b[92m [2024-08-24 13:17:09][DEBUG]: == [A hospital nurse] Task output: Can you please tell me why you've come to see us today? True\n",
      "\n",
      "\u001b[00m\n"
     ]
    }
   ],
   "source": [
    "import random\n",
    "import torch\n",
    "\n",
    "def filter_ans(ans):\n",
    "    return ans.removeprefix(keyword).removesuffix(keyword).strip(\"\\\"* \")\n",
    "    \n",
    "def response(message, history):\n",
    "    q_and_ans = []\n",
    "    history = history[-10:]\n",
    "    history += [[message, None]]\n",
    "    for i in range(len(history)-1):\n",
    "        q_and_ans.append(' '.join([history[i][1], history[i+1][0]]))\n",
    "    \n",
    "    history_str = '\\n'.join(q_and_ans)\n",
    "    if history_str == \"\": history_str = \"None yet\"\n",
    "\n",
    "    answer = prompt_crew.kickoff(inputs={'history': history_str}).raw\n",
    "    if keyword not in answer:\n",
    "        return filter_ans(diagnose_crew.kickoff(inputs={'symptoms': answer}).raw)\n",
    "    return filter_ans(answer)\n",
    "\n",
    "def init_convo():\n",
    "    return filter_ans(prompt_crew.kickoff(inputs={'history': \"None yet\"}).raw)\n",
    "\n",
    "gr.ChatInterface(\n",
    "    response,\n",
    "    chatbot=gr.Chatbot([(None, init_convo())])\n",
    ").launch(share=True)"
   ]
  },
  {
   "cell_type": "code",
   "execution_count": 36,
   "id": "e007d1d5-325e-4d7d-ba0c-2a847151903d",
   "metadata": {
    "tags": []
   },
   "outputs": [
    {
     "data": {
      "text/plain": [
       "False"
      ]
     },
     "execution_count": 36,
     "metadata": {},
     "output_type": "execute_result"
    }
   ],
   "source": [
    "keyword in \"hi\""
   ]
  },
  {
   "cell_type": "code",
   "execution_count": 40,
   "id": "edeeab50-2cfb-40b6-87d5-b45d30fb9f94",
   "metadata": {},
   "outputs": [
    {
     "ename": "UnicodeDecodeError",
     "evalue": "'utf-8' codec can't decode byte 0xe2 in position 10: invalid continuation byte",
     "output_type": "error",
     "traceback": [
      "\u001b[0;31m---------------------------------------------------------------------------\u001b[0m",
      "\u001b[0;31mUnicodeDecodeError\u001b[0m                        Traceback (most recent call last)",
      "Cell \u001b[0;32mIn[40], line 2\u001b[0m\n\u001b[1;32m      1\u001b[0m \u001b[38;5;28;01mwith\u001b[39;00m \u001b[38;5;28mopen\u001b[39m(\u001b[38;5;124m\"\u001b[39m\u001b[38;5;124m./Docs/Symptom_collection.pdf\u001b[39m\u001b[38;5;124m\"\u001b[39m) \u001b[38;5;28;01mas\u001b[39;00m f:\n\u001b[0;32m----> 2\u001b[0m     \u001b[43mf\u001b[49m\u001b[38;5;241;43m.\u001b[39;49m\u001b[43mread\u001b[49m\u001b[43m(\u001b[49m\u001b[43m)\u001b[49m\n",
      "File \u001b[0;32m<frozen codecs>:322\u001b[0m, in \u001b[0;36mdecode\u001b[0;34m(self, input, final)\u001b[0m\n",
      "\u001b[0;31mUnicodeDecodeError\u001b[0m: 'utf-8' codec can't decode byte 0xe2 in position 10: invalid continuation byte"
     ]
    }
   ],
   "source": []
  },
  {
   "cell_type": "code",
   "execution_count": null,
   "id": "a46d9cd7-3d35-4a29-83f4-e8bf5b1ba4b2",
   "metadata": {},
   "outputs": [],
   "source": []
  }
 ],
 "metadata": {
  "kernelspec": {
   "display_name": "Python 3 (ipykernel)",
   "language": "python",
   "name": "python3"
  },
  "language_info": {
   "codemirror_mode": {
    "name": "ipython",
    "version": 3
   },
   "file_extension": ".py",
   "mimetype": "text/x-python",
   "name": "python",
   "nbconvert_exporter": "python",
   "pygments_lexer": "ipython3",
   "version": "3.11.7"
  }
 },
 "nbformat": 4,
 "nbformat_minor": 5
}
