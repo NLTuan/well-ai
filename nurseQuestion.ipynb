{
 "cells": [
  {
   "cell_type": "code",
   "execution_count": 1,
   "id": "cdd07de2-8d5e-4a3b-81b2-a5b4a2db3a1e",
   "metadata": {
    "tags": []
   },
   "outputs": [
    {
     "name": "stdout",
     "output_type": "stream",
     "text": [
      ">>> Installing ollama to /usr/local\n",
      ">>> Downloading Linux amd64 CLI\n",
      "######################################################################## 100.0%#=#=#                                                                         \n",
      ">>> Making ollama accessible in the PATH in /usr/local/bin\n",
      ">>> Creating ollama user...\n",
      ">>> Adding ollama user to render group...\n",
      ">>> Adding ollama user to video group...\n",
      ">>> Adding current user to ollama group...\n",
      ">>> Creating ollama systemd service...\n",
      "WARNING: Unable to detect NVIDIA/AMD GPU. Install lspci or lshw to automatically detect and install GPU dependencies.\n",
      ">>> The Ollama API is now available at 127.0.0.1:11434.\n",
      ">>> Install complete. Run \"ollama\" from the command line.\n"
     ]
    }
   ],
   "source": [
    "!curl -fsSL https://ollama.com/install.sh | sh"
   ]
  },
  {
   "cell_type": "code",
   "execution_count": 1,
   "id": "e7eae6a6-6cfd-4573-9415-302bbb65174c",
   "metadata": {
    "tags": []
   },
   "outputs": [],
   "source": [
    "from langchain_community.llms import Ollama\n",
    "from IPython.display import Markdown\n",
    "from pathlib import Path"
   ]
  },
  {
   "cell_type": "code",
   "execution_count": 2,
   "id": "a533a5a3-933b-4523-94af-38a12584d4bf",
   "metadata": {
    "tags": []
   },
   "outputs": [
    {
     "name": "stderr",
     "output_type": "stream",
     "text": [
      "/root/.local/lib/python3.11/site-packages/pydantic/_internal/_config.py:341: UserWarning: Valid config keys have changed in V2:\n",
      "* 'allow_population_by_field_name' has been renamed to 'populate_by_name'\n",
      "* 'smart_union' has been removed\n",
      "  warnings.warn(message, UserWarning)\n"
     ]
    }
   ],
   "source": [
    "from crewai import Agent, Task, Crew\n",
    "from crewai_tools import BaseTool\n",
    "\n",
    "class PromptingPatientTool(BaseTool):\n",
    "    name: str = \"Patient Prompting\"\n",
    "    description: str = \"When more information is needed from the patient, use this tool. \"\n",
    "    \"Don't comment on the result afterwards. Do not add anything. Just return the result. \"\n",
    "\n",
    "    def _run(self, question: str) -> str:\n",
    "        # Your tool's logic here\n",
    "        return f\"{question}\"\n",
    "    \n",
    "class WriteToFileTool(BaseTool):\n",
    "    name: str = \"File Writer Tool\"\n",
    "    description: str = \"Writing information to report.txt. Provide content to be written, and must include a flag to overwrite an existing file (w to rewrite the file (for new patients), a to extend the file). \"\n",
    "    \"You must write down the question and answer as for the 'content' parameter in  format like this: Question: [question asked], Answer: [answer to the question].\"\n",
    "    \n",
    "    def _run(self, filename: str, path: str, content: str, flag: str) -> str:\n",
    "        # Your tool's logic here\n",
    "        with open(Path('.') / 'report.txt', flag) as f:\n",
    "            f.write(content)\n",
    "            f.write('\\n')\n",
    "            \n",
    "class ReadFileTool(BaseTool):\n",
    "    name: str = \"File Reader Tool\"\n",
    "    description: str = \"Allows the reading of a file\"\n",
    "    \n",
    "    def _run(self, filename: str, path: str) -> str:\n",
    "        # Your tool's logic here\n",
    "        with open(Path('.') / 'report.txt', 'r') as f:\n",
    "            return f.read()\n",
    "    \n",
    "class CommunicateWithExpert(BaseTool):\n",
    "    name: str = \"Communication with a MedicalExpert Tool\"\n",
    "    description: str = \"Commun\""
   ]
  },
  {
   "cell_type": "code",
   "execution_count": 3,
   "id": "f5e76d60-56ca-4295-96eb-75534ead65ed",
   "metadata": {
    "tags": []
   },
   "outputs": [],
   "source": [
    "from crewai_tools import FileReadTool, FileWriterTool\n",
    "\n",
    "prompt_tool = PromptingPatientTool()\n",
    "file_read_tool = ReadFileTool()\n",
    "file_write_tool = WriteToFileTool()"
   ]
  },
  {
   "cell_type": "code",
   "execution_count": 23,
   "id": "d6549308-b7f4-4b8f-9590-09731c3b8e3c",
   "metadata": {
    "tags": []
   },
   "outputs": [],
   "source": [
    "from crewai import Agent, Task, Crew, Process\n",
    "\n",
    "llm = Ollama(model='llama3.1')\n",
    "bio_llm = Ollama(model='jsk/bio-mistral')\n",
    "\n",
    "nurse = Agent(\n",
    "    role=\"A hospital nurse\",\n",
    "    goal=\"Your goal is to gather patient information and symptoms by coming up with a single question for the patient to obtain pertinent information.\"\n",
    "    \"You can only output either a question or a summary of the information returned by your tools\",\n",
    "    backstory=\"The AI agent is modeled after a seasoned nurse with extensive experience in primary care.\" \n",
    "    \"It has been trained on a wide range of medical conditions and symptoms, allowing it to ask pertinent questions and recognize key details. \"\n",
    "    \"The agent’s persona is designed to be empathetic and attentive, reflecting a caring and professional demeanor. \"\n",
    "    \"It is equipped with a robust knowledge base to handle diverse medical queries and provide a supportive conversational experience. \",\n",
    "    verbose=True,\n",
    "    allow_delegation=False,\n",
    "    llm=llm\n",
    ")\n",
    "\n",
    "doctor = Agent(\n",
    "    role=\"A hospital doctor\",\n",
    "    goal=\"Your goal is to diagnose the patient and identify the disease that they might be suffering from. \"\n",
    "    \"You also have to provide the next course of action for the patient. \"\n",
    "    \"You also might need to call in a specialist (for example: a dermatologist for skin diseases) if one is available. \",\n",
    "    backstory=\"You are a doctor working at a hospital. You have to diagnose patients' diseases given the nurse's reports.\",\n",
    "    verbose = True,\n",
    "    allow_delegation=False,\n",
    "    llm=llm\n",
    ")\n",
    "\n",
    "manager = Agent(\n",
    "    role=\"Control flow manager\",\n",
    "    goal=\"Given the nurse's task output, your goal is to simply the information to the patient exactly as is. \"\n",
    "    \"Output the information if it is a question, send the information in for diagnosis if it is a summary of symptoms. Don't answer the nurse. \",\n",
    "    backstory=\"You are an organized manager at a hospital tasked with communicating the right information to a patient. \",\n",
    "    llm=llm,\n",
    "    allow_delegation=False,\n",
    "    verbose=True\n",
    ")"
   ]
  },
  {
   "cell_type": "code",
   "execution_count": 32,
   "id": "356d175d-b6b2-448b-b879-7fb9b2ec9029",
   "metadata": {
    "tags": []
   },
   "outputs": [
    {
     "name": "stderr",
     "output_type": "stream",
     "text": [
      "2024-08-21 20:36:16,923 - 140312225226752 - __init__.py-__init__:531 - WARNING: Overriding of current TracerProvider is not allowed\n"
     ]
    }
   ],
   "source": [
    "diagnose = Task(\n",
    "    description=(\"Given the nurse's reported information from the patient: {symptoms}. You must make an assessment of the results. \"\n",
    "                \"If more information is needed, make a brief statement and provide additional questions for the patient. \"),\n",
    "    expected_output=\"You must provide a diagnosiss or potential diagnoses. \"\n",
    "    \"You must determine whether more information is needed from the patient and the next course of action. \"\n",
    "    \"Tell the nurse whether more information is needed, provide questions for the patient, and consider the task done. \"\n",
    "    \"If no specialists are available, provide course of action and treatment plan. \",\n",
    "    tools=[],\n",
    "    agent=doctor\n",
    ")\n",
    "\n",
    "communicate_back = Task(\n",
    "    description=(\"Given the doctor agent's outputs, report it back to the patient in a clear, concise, and understandable manner. \"),\n",
    "    expected_output=\"A clear explanation of what the patient is suffering from based on the doctor's reports. List the next course of action. \"\n",
    "    \"Tell the patient what he would need to get checked for at a real hospital. \"\n",
    "    \"If the patient needs to get to the hospital, inform the patient that this is only a virtual hospital and that the patient needs medical care at the hospital\",\n",
    "    agent=nurse\n",
    ")\n",
    "\n",
    "diagnose_crew = Crew(\n",
    "    agents=[doctor, nurse],\n",
    "    tasks=[diagnose, communicate_back],\n",
    "    verbose=True\n",
    ")\n",
    "\n",
    "\n",
    "class InferenceDiagnosisCrew(BaseTool):\n",
    "    name: str = \"Inference Diagnosis Team Tool\"\n",
    "    description: str = \"This tool can ONLY be used when enough information about the patient has been gathered. Do not use this tool otherwise. \"\n",
    "    \"The information will ready to be processed by the medical team. \"\n",
    "    \"The output is a medical diagnosis. \"\n",
    "    \n",
    "    def _run(self, symptoms: str) -> str:\n",
    "        # Your tool's logic here\n",
    "        return diagnose_crew.kickoff(inputs={'symptoms': symptoms}).raw\n",
    "    \n",
    "collect_info = Task(\n",
    "    description=(\"Given the patient's message: {message}. Highlight important symptoms. \"\n",
    "                 \"You will collect patient information by asking questions. You will output a question for further precision. \"\n",
    "                 \"If enough information has been recieved, report the information in a bullet point format to the doctor. \"\n",
    "                \"Don't add anything after using the tools. Simply relay the information.\"),\n",
    "    expected_output=\"A single question about the patient's symptoms. In addition, add True if it is a question, False if it isn't at the end. Either that, or a bullet list of all of the patient's symptoms. \",\n",
    "    tools=[],\n",
    "    agent=nurse\n",
    ")\n",
    "\n",
    "relay = Task(\n",
    "    description=(\"Determine if the information is ready to be sent to the diagnosis team. If provided with a question, simply output the information with no modifications and do not answer the question. \"\n",
    "                \"ONLY IF provided with a long list of symptoms, use the Inference Diagnosis Crew tool with the symptoms as input.\"),\n",
    "    expected_output=\"Either a question or a diagnosis from the doctor. In addition, True if it is a question, False if it isn't\",\n",
    "    tools=[],\n",
    "    agent=manager,\n",
    ")"
   ]
  },
  {
   "cell_type": "code",
   "execution_count": 33,
   "id": "b94f2444-8dbd-4f87-925d-838ecd89da5b",
   "metadata": {
    "tags": []
   },
   "outputs": [
    {
     "name": "stderr",
     "output_type": "stream",
     "text": [
      "2024-08-21 20:36:17,140 - 140312225226752 - __init__.py-__init__:531 - WARNING: Overriding of current TracerProvider is not allowed\n"
     ]
    }
   ],
   "source": [
    "prompt_crew = Crew(\n",
    "    agents=[nurse],\n",
    "    tasks=[collect_info],\n",
    "    verbose=True,\n",
    ")\n"
   ]
  },
  {
   "cell_type": "code",
   "execution_count": null,
   "id": "9394fd94-95f1-4402-b9a1-4b03a86fbc2b",
   "metadata": {},
   "outputs": [],
   "source": []
  },
  {
   "cell_type": "code",
   "execution_count": 34,
   "id": "ffee9abc-82eb-418e-af0f-9ba7299ac297",
   "metadata": {
    "tags": []
   },
   "outputs": [
    {
     "name": "stdout",
     "output_type": "stream",
     "text": [
      "\u001b[1m\u001b[95m [2024-08-21 20:36:17][DEBUG]: == Working Agent: A hospital nurse\u001b[00m\n",
      "\u001b[1m\u001b[95m [2024-08-21 20:36:17][INFO]: == Starting Task: Given the patient's message: {message}. Highlight important symptoms. You will collect patient information by asking questions. You will output a question for further precision. If enough information has been recieved, report the information in a bullet point format to the doctor. Don't add anything after using the tools. Simply relay the information.\u001b[00m\n",
      "\n",
      "\n",
      "\u001b[1m> Entering new CrewAgentExecutor chain...\u001b[0m\n",
      "\u001b[32;1m\u001b[1;3mThought: I now can give a great answer\n",
      "\n",
      "Final Answer: What brings you to the hospital today? Is there anything specific that's been concerning or bothering you recently?\n",
      "\n",
      "True\u001b[0m\n",
      "\n",
      "\u001b[1m> Finished chain.\u001b[0m\n",
      "\u001b[1m\u001b[92m [2024-08-21 20:36:18][DEBUG]: == [A hospital nurse] Task output: What brings you to the hospital today? Is there anything specific that's been concerning or bothering you recently?\n",
      "\n",
      "True\n",
      "\n",
      "\u001b[00m\n"
     ]
    },
    {
     "data": {
      "text/markdown": [
       "What brings you to the hospital today? Is there anything specific that's been concerning or bothering you recently?\n",
       "\n",
       "True"
      ],
      "text/plain": [
       "<IPython.core.display.Markdown object>"
      ]
     },
     "metadata": {},
     "output_type": "display_data"
    }
   ],
   "source": [
    "display(Markdown(prompt_crew.kickoff().raw))"
   ]
  },
  {
   "cell_type": "code",
   "execution_count": 35,
   "id": "8a703fab-913d-49c9-971d-0f3f3dce7d97",
   "metadata": {
    "tags": []
   },
   "outputs": [],
   "source": [
    "import gradio as gr\n",
    "from gradio import ChatMessage"
   ]
  },
  {
   "cell_type": "code",
   "execution_count": 36,
   "id": "f9fda4db-67a6-4b05-a4a2-accc4a893052",
   "metadata": {
    "tags": []
   },
   "outputs": [
    {
     "name": "stdout",
     "output_type": "stream",
     "text": [
      "Running on local URL:  http://127.0.0.1:7876\n",
      "Running on public URL: https://d96713e33a9b9fcf51.gradio.live\n",
      "\n",
      "This share link expires in 72 hours. For free permanent hosting and GPU upgrades, run `gradio deploy` from Terminal to deploy to Spaces (https://huggingface.co/spaces)\n"
     ]
    },
    {
     "data": {
      "text/html": [
       "<div><iframe src=\"https://d96713e33a9b9fcf51.gradio.live\" width=\"100%\" height=\"500\" allow=\"autoplay; camera; microphone; clipboard-read; clipboard-write;\" frameborder=\"0\" allowfullscreen></iframe></div>"
      ],
      "text/plain": [
       "<IPython.core.display.HTML object>"
      ]
     },
     "metadata": {},
     "output_type": "display_data"
    },
    {
     "data": {
      "text/plain": []
     },
     "execution_count": 36,
     "metadata": {},
     "output_type": "execute_result"
    },
    {
     "name": "stdout",
     "output_type": "stream",
     "text": [
      "\u001b[1m\u001b[95m [2024-08-21 20:36:30][DEBUG]: == Working Agent: A hospital nurse\u001b[00m\n",
      "\u001b[1m\u001b[95m [2024-08-21 20:36:30][INFO]: == Starting Task: Given the patient's message: i have a headache along with blood vomiting with loss of vision and nausea around 2 weeks ago when i ate spoiled rice. It was very abupt. I also experienced a high fever. Highlight important symptoms. You will collect patient information by asking questions. You will output a question for further precision. If enough information has been recieved, report the information in a bullet point format to the doctor. Don't add anything after using the tools. Simply relay the information.\u001b[00m\n",
      "\n",
      "\n",
      "\u001b[1m> Entering new CrewAgentExecutor chain...\u001b[0m\n",
      "\u001b[32;1m\u001b[1;3mThought: I now can give a great answer\n",
      "\n",
      "Final Answer: When did the high fever start in relation to when you experienced the headache and vomiting, was it before or after eating the spoiled rice? True.\u001b[0m\n",
      "\n",
      "\u001b[1m> Finished chain.\u001b[0m\n",
      "\u001b[1m\u001b[92m [2024-08-21 20:36:31][DEBUG]: == [A hospital nurse] Task output: When did the high fever start in relation to when you experienced the headache and vomiting, was it before or after eating the spoiled rice? True.\n",
      "\n",
      "\u001b[00m\n",
      "\u001b[1m\u001b[95m [2024-08-21 20:36:56][DEBUG]: == Working Agent: A hospital nurse\u001b[00m\n",
      "\u001b[1m\u001b[95m [2024-08-21 20:36:56][INFO]: == Starting Task: Given the patient's message: i have a headache along with blood vomiting with loss of vision and nausea around 2 weeks ago when i ate spoiled rice. It was very abupt. I also experienced a high fever . All of these symptoms happened at the same time (around 2 weeks ago). Highlight important symptoms. You will collect patient information by asking questions. You will output a question for further precision. If enough information has been recieved, report the information in a bullet point format to the doctor. Don't add anything after using the tools. Simply relay the information.\u001b[00m\n",
      "\n",
      "\n",
      "\u001b[1m> Entering new CrewAgentExecutor chain...\u001b[0m\n",
      "\u001b[32;1m\u001b[1;3mThought: I now can give a great answer\n",
      "\n",
      "Final Answer: What was the duration of the high fever and how often did it recur in the 2 weeks following the initial episode? True\u001b[0m\n",
      "\n",
      "\u001b[1m> Finished chain.\u001b[0m\n",
      "\u001b[1m\u001b[92m [2024-08-21 20:36:57][DEBUG]: == [A hospital nurse] Task output: What was the duration of the high fever and how often did it recur in the 2 weeks following the initial episode? True\n",
      "\n",
      "\u001b[00m\n",
      "\u001b[1m\u001b[95m [2024-08-21 20:37:20][DEBUG]: == Working Agent: A hospital nurse\u001b[00m\n",
      "\u001b[1m\u001b[95m [2024-08-21 20:37:20][INFO]: == Starting Task: Given the patient's message: i have a headache along with blood vomiting with loss of vision and nausea around 2 weeks ago when i ate spoiled rice. It was very abupt. I also experienced a high fever . All of these symptoms happened at the same time (around 2 weeks ago). I still have the fever now. Highlight important symptoms. You will collect patient information by asking questions. You will output a question for further precision. If enough information has been recieved, report the information in a bullet point format to the doctor. Don't add anything after using the tools. Simply relay the information.\u001b[00m\n",
      "\n",
      "\n",
      "\u001b[1m> Entering new CrewAgentExecutor chain...\u001b[0m\n",
      "\u001b[32;1m\u001b[1;3mThought: I now can give a great answer\n",
      "\n",
      "Final Answer: What was the highest temperature reading you experienced during this episode? True\u001b[0m\n",
      "\n",
      "\u001b[1m> Finished chain.\u001b[0m\n",
      "\u001b[1m\u001b[92m [2024-08-21 20:37:20][DEBUG]: == [A hospital nurse] Task output: What was the highest temperature reading you experienced during this episode? True\n",
      "\n",
      "\u001b[00m\n",
      "\u001b[1m\u001b[95m [2024-08-21 20:37:39][DEBUG]: == Working Agent: A hospital nurse\u001b[00m\n",
      "\u001b[1m\u001b[95m [2024-08-21 20:37:39][INFO]: == Starting Task: Given the patient's message: i have a headache along with blood vomiting with loss of vision and nausea around 2 weeks ago when i ate spoiled rice. It was very abupt. I also experienced a high fever . All of these symptoms happened at the same time (around 2 weeks ago). I still have the fever now. The fever was 40 degrees. Highlight important symptoms. You will collect patient information by asking questions. You will output a question for further precision. If enough information has been recieved, report the information in a bullet point format to the doctor. Don't add anything after using the tools. Simply relay the information.\u001b[00m\n",
      "\n",
      "\n",
      "\u001b[1m> Entering new CrewAgentExecutor chain...\u001b[0m\n",
      "\u001b[32;1m\u001b[1;3mI now can give a great answer.\n",
      "\n",
      "Final Answer: Have you experienced any changes in your urine output or noticed any blood in your stool since the onset of symptoms? True.\u001b[0m\n",
      "\n",
      "\u001b[1m> Finished chain.\u001b[0m\n",
      "\u001b[1m\u001b[92m [2024-08-21 20:37:40][DEBUG]: == [A hospital nurse] Task output: Have you experienced any changes in your urine output or noticed any blood in your stool since the onset of symptoms? True.\n",
      "\n",
      "\u001b[00m\n",
      "\u001b[1m\u001b[95m [2024-08-21 20:37:48][DEBUG]: == Working Agent: A hospital nurse\u001b[00m\n",
      "\u001b[1m\u001b[95m [2024-08-21 20:37:48][INFO]: == Starting Task: Given the patient's message: i have a headache along with blood vomiting with loss of vision and nausea around 2 weeks ago when i ate spoiled rice. It was very abupt. I also experienced a high fever . All of these symptoms happened at the same time (around 2 weeks ago). I still have the fever now. my stool was black. Highlight important symptoms. You will collect patient information by asking questions. You will output a question for further precision. If enough information has been recieved, report the information in a bullet point format to the doctor. Don't add anything after using the tools. Simply relay the information.\u001b[00m\n",
      "\n",
      "\n",
      "\u001b[1m> Entering new CrewAgentExecutor chain...\u001b[0m\n",
      "\u001b[32;1m\u001b[1;3mThought: I now can give a great answer\n",
      "\n",
      "Final Answer: Have you experienced any difficulty speaking or swallowing since the onset of these symptoms? \n",
      "True\u001b[0m\n",
      "\n",
      "\u001b[1m> Finished chain.\u001b[0m\n",
      "\u001b[1m\u001b[92m [2024-08-21 20:37:49][DEBUG]: == [A hospital nurse] Task output: Have you experienced any difficulty speaking or swallowing since the onset of these symptoms? \n",
      "True\n",
      "\n",
      "\u001b[00m\n"
     ]
    }
   ],
   "source": [
    "import random\n",
    "import torch\n",
    "\n",
    "def random_response(message, history):\n",
    "    \n",
    "    answer = prompt_crew.kickoff(inputs={'message':message}).raw\n",
    "    if \"False\" in answer.lower():\n",
    "        pass\n",
    "        # answer = diagnose_crew.kickoff(answer).raw\n",
    "    return answer\n",
    "\n",
    "gr.ChatInterface(random_response).launch(share=True)"
   ]
  },
  {
   "cell_type": "code",
   "execution_count": null,
   "id": "e007d1d5-325e-4d7d-ba0c-2a847151903d",
   "metadata": {},
   "outputs": [],
   "source": []
  },
  {
   "cell_type": "code",
   "execution_count": null,
   "id": "c04bdcec-342c-4211-9d30-f0fb18911b86",
   "metadata": {},
   "outputs": [],
   "source": []
  }
 ],
 "metadata": {
  "kernelspec": {
   "display_name": "Python 3 (ipykernel)",
   "language": "python",
   "name": "python3"
  },
  "language_info": {
   "codemirror_mode": {
    "name": "ipython",
    "version": 3
   },
   "file_extension": ".py",
   "mimetype": "text/x-python",
   "name": "python",
   "nbconvert_exporter": "python",
   "pygments_lexer": "ipython3",
   "version": "3.11.7"
  }
 },
 "nbformat": 4,
 "nbformat_minor": 5
}
