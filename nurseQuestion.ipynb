{
 "cells": [
  {
   "cell_type": "code",
   "execution_count": 1,
   "id": "cdd07de2-8d5e-4a3b-81b2-a5b4a2db3a1e",
   "metadata": {
    "tags": []
   },
   "outputs": [
    {
     "name": "stdout",
     "output_type": "stream",
     "text": [
      ">>> Installing ollama to /usr/local\n",
      ">>> Downloading Linux amd64 CLI\n",
      "######################################################################## 100.0%##O#-#                                                                        \n",
      ">>> Making ollama accessible in the PATH in /usr/local/bin\n",
      ">>> Creating ollama user...\n",
      ">>> Adding ollama user to render group...\n",
      ">>> Adding ollama user to video group...\n",
      ">>> Adding current user to ollama group...\n",
      ">>> Creating ollama systemd service...\n",
      "WARNING: Unable to detect NVIDIA/AMD GPU. Install lspci or lshw to automatically detect and install GPU dependencies.\n",
      ">>> The Ollama API is now available at 127.0.0.1:11434.\n",
      ">>> Install complete. Run \"ollama\" from the command line.\n"
     ]
    }
   ],
   "source": [
    "!curl -fsSL https://ollama.com/install.sh | sh"
   ]
  },
  {
   "cell_type": "code",
   "execution_count": 125,
   "id": "e7eae6a6-6cfd-4573-9415-302bbb65174c",
   "metadata": {
    "tags": []
   },
   "outputs": [],
   "source": [
    "from langchain_community.llms import Ollama\n",
    "from IPython.display import Markdown\n",
    "from pathlib import Path"
   ]
  },
  {
   "cell_type": "code",
   "execution_count": 126,
   "id": "a533a5a3-933b-4523-94af-38a12584d4bf",
   "metadata": {
    "tags": []
   },
   "outputs": [],
   "source": [
    "from crewai import Agent, Task, Crew\n",
    "from crewai_tools import BaseTool\n",
    "\n",
    "class PromptingPatientTool(BaseTool):\n",
    "    name: str = \"Patient Prompting\"\n",
    "    description: str = \"When more information is needed from the patient, use this tool. \"\n",
    "    \"Don't comment on the result afterwards. Do not add anything. Just return the result. \"\n",
    "\n",
    "    def _run(self, question: str) -> str:\n",
    "        # Your tool's logic here\n",
    "        return f\"{question}\"\n",
    "    \n",
    "class WriteToFileTool(BaseTool):\n",
    "    name: str = \"File Writer Tool\"\n",
    "    description: str = \"Writing information to report.txt. Provide content to be written, and must include a flag to overwrite an existing file (w to rewrite the file (for new patients), a to extend the file). \"\n",
    "    \"You must write down the question and answer as for the 'content' parameter in  format like this: Question: [question asked], Answer: [answer to the question].\"\n",
    "    \n",
    "    def _run(self, filename: str, path: str, content: str, flag: str) -> str:\n",
    "        # Your tool's logic here\n",
    "        with open(Path('.') / 'report.txt', flag) as f:\n",
    "            f.write(content)\n",
    "            f.write('\\n')\n",
    "            \n",
    "class ReadFileTool(BaseTool):\n",
    "    name: str = \"File Reader Tool\"\n",
    "    description: str = \"Allows the reading of a file\"\n",
    "    \n",
    "    def _run(self, filename: str, path: str) -> str:\n",
    "        # Your tool's logic here\n",
    "        with open(Path('.') / 'report.txt', 'r') as f:\n",
    "            return f.read()\n",
    "    \n",
    "class CommunicateWithExpert(BaseTool):\n",
    "    name: str = \"Communication with a MedicalExpert Tool\"\n",
    "    description: str = \"Commun\""
   ]
  },
  {
   "cell_type": "code",
   "execution_count": 127,
   "id": "f5e76d60-56ca-4295-96eb-75534ead65ed",
   "metadata": {
    "tags": []
   },
   "outputs": [
    {
     "name": "stdout",
     "output_type": "stream",
     "text": [
      "\u001b[32;1m\u001b[1;3mThought: The patient hasn't provided any symptoms yet. I should ask an open-ended question to encourage detailed information.\n",
      "Final Answer:\n",
      "T - \"Can you please describe in detail what has been troubling you today that made you seek hospital care? What are the main symptoms or problems you've been experiencing?\"\u001b[0m\n",
      "\n",
      "\u001b[1m> Finished chain.\u001b[0m\n",
      "\u001b[1m\u001b[92m [2024-08-23 00:52:02][DEBUG]: == [A hospital nurse] Task output: T - \"Can you please describe in detail what has been troubling you today that made you seek hospital care? What are the main symptoms or problems you've been experiencing?\"\n",
      "\n",
      "\u001b[00m\n"
     ]
    }
   ],
   "source": [
    "from crewai_tools import FileReadTool, FileWriterTool\n",
    "\n",
    "prompt_tool = PromptingPatientTool()\n",
    "file_read_tool = ReadFileTool()\n",
    "file_write_tool = WriteToFileTool()"
   ]
  },
  {
   "cell_type": "code",
   "execution_count": 184,
   "id": "d6549308-b7f4-4b8f-9590-09731c3b8e3c",
   "metadata": {
    "tags": []
   },
   "outputs": [],
   "source": [
    "from crewai import Agent, Task, Crew, Process\n",
    "\n",
    "llm = Ollama(model='mistral-nemo')\n",
    "bio_llm = Ollama(model='jsk/bio-mistral')\n",
    "\n",
    "nurse = Agent(\n",
    "    role=\"A hospital nurse\",\n",
    "    goal=\"Your goal is to gather patient information and symptoms by coming up with a single question for the patient to obtain pertinent information.\"\n",
    "    \"You can only output either a question or a summary of the information returned by your tools\",\n",
    "    backstory=\"The AI agent is modeled after a seasoned nurse with extensive experience in primary care.\" \n",
    "    \"It has been trained on a wide range of medical conditions and symptoms, allowing it to ask pertinent questions and recognize key details. \"\n",
    "    \"The agent’s persona is designed to be empathetic and attentive, reflecting a caring and professional demeanor. \"\n",
    "    \"It is equipped with a robust knowledge base to handle diverse medical queries and provide a supportive conversational experience. \",\n",
    "    verbose=True,\n",
    "    allow_delegation=False,\n",
    "    llm=llm\n",
    ")\n",
    "\n",
    "doctor = Agent(\n",
    "    role=\"A hospital doctor\",\n",
    "    goal=\"Your goal is to diagnose the patient and identify the disease that they might be suffering from provided this list of symptoms: {symptoms}. \"\n",
    "    \"You also have to provide the next course of action for the patient. \"\n",
    "    \"You also might need to call in a specialist (for example: a dermatologist for skin diseases) if one is available. \",\n",
    "    backstory=\"You are a doctor working at a hospital. You have to diagnose patients' diseases given the nurse's reports.\",\n",
    "    verbose = True,\n",
    "    allow_delegation=False,\n",
    "    llm=llm\n",
    ")\n",
    "\n",
    "manager = Agent(\n",
    "    role=\"Control flow manager\",\n",
    "    goal=\"Given the nurse's task output, your goal is to simply the information to the patient exactly as is. \"\n",
    "    \"Output the information if it is a question, send the information in for diagnosis if it is a summary of symptoms. Don't answer the nurse. \",\n",
    "    backstory=\"You are an organized manager at a hospital tasked with communicating the right information to a patient. \",\n",
    "    llm=llm,\n",
    "    allow_delegation=False,\n",
    "    verbose=True\n",
    ")"
   ]
  },
  {
   "cell_type": "code",
   "execution_count": 231,
   "id": "356d175d-b6b2-448b-b879-7fb9b2ec9029",
   "metadata": {
    "tags": []
   },
   "outputs": [
    {
     "name": "stderr",
     "output_type": "stream",
     "text": [
      "2024-08-23 01:35:01,549 - 139679666212864 - __init__.py-__init__:531 - WARNING: Overriding of current TracerProvider is not allowed\n"
     ]
    }
   ],
   "source": [
    "diagnose = Task(\n",
    "    description=(\"Given the nurse's reported information from the patient: {symptoms}. You must make an assessment of the results. \"\n",
    "                \"If more information is needed, make a brief statement and provide additional questions for the patient. \"),\n",
    "    expected_output=\"You must provide a diagnosiss or potential diagnoses. \"\n",
    "    \"You must determine whether more information is needed from the patient and the next course of action. \"\n",
    "    \"Tell the nurse whether more information is needed, provide questions for the patient, and consider the task done. \"\n",
    "    \"If no specialists are available, provide course of action and treatment plan. \",\n",
    "    tools=[],\n",
    "    agent=doctor\n",
    ")\n",
    "\n",
    "communicate_back = Task(\n",
    "    description=(\"Given the doctor agent's outputs, report it back to the patient in a clear, concise, and understandable manner. \"),\n",
    "    expected_output=\"A clear explanation of what the patient is suffering from based on the doctor's reports. List the next course of action. \"\n",
    "    \"Tell the patient what he would need to get checked for at a real hospital. \"\n",
    "    \"If the patient needs to get to the hospital, inform the patient that this is only a virtual hospital and that the patient needs medical care at the hospital\",\n",
    "    agent=nurse\n",
    ")\n",
    "\n",
    "diagnose_crew = Crew(\n",
    "    agents=[doctor, nurse],\n",
    "    tasks=[diagnose, communicate_back],\n",
    "    verbose=True\n",
    ")\n",
    "\n",
    "keyword = \"True\"\n",
    "class InferenceDiagnosisCrew(BaseTool):\n",
    "    name: str = \"Inference Diagnosis Team Tool\"\n",
    "    description: str = \"This tool can ONLY be used when enough information about the patient has been gathered. Do not use this tool otherwise. \"\n",
    "    \"The information will ready to be processed by the medical team. \"\n",
    "    \"The output is a medical diagnosis. \"\n",
    "    \n",
    "    def _run(self, symptoms: str) -> str:\n",
    "        # Your tool's logic here\n",
    "        return diagnose_crew.kickoff(inputs={'symptoms': symptoms}).raw\n",
    "    \n",
    "collect_info = Task(\n",
    "    description=(\"Given this chat history between you and the patient: \\\"{history}\\\" .\"\n",
    "                 \"Highlight important symptoms. \"\n",
    "                 \"You will collect patient information by asking questions. You will output a question for further precision. \"\n",
    "                 \"If enough information has been recieved, report the information in a bullet point format to the doctor. \"\n",
    "                \"Avoid adding unnecessary syntax like quotation marks. \"),\n",
    "    expected_output=f\"A question about the patient's symptoms. In addition, simply add {keyword} if it is a question for the patient exclusively at the end. Either that, or a bullet list of all of the patient's symptoms. \" ,\n",
    "    tools=[],\n",
    "\n",
    "    agent=nurse\n",
    ")"
   ]
  },
  {
   "cell_type": "code",
   "execution_count": 232,
   "id": "b94f2444-8dbd-4f87-925d-838ecd89da5b",
   "metadata": {
    "tags": []
   },
   "outputs": [
    {
     "name": "stderr",
     "output_type": "stream",
     "text": [
      "2024-08-23 01:35:01,715 - 139679666212864 - __init__.py-__init__:531 - WARNING: Overriding of current TracerProvider is not allowed\n"
     ]
    }
   ],
   "source": [
    "prompt_crew = Crew(\n",
    "    agents=[nurse],\n",
    "    tasks=[collect_info],\n",
    "    verbose=True,\n",
    ")\n"
   ]
  },
  {
   "cell_type": "code",
   "execution_count": null,
   "id": "9394fd94-95f1-4402-b9a1-4b03a86fbc2b",
   "metadata": {},
   "outputs": [],
   "source": []
  },
  {
   "cell_type": "code",
   "execution_count": 233,
   "id": "ffee9abc-82eb-418e-af0f-9ba7299ac297",
   "metadata": {
    "tags": []
   },
   "outputs": [
    {
     "name": "stdout",
     "output_type": "stream",
     "text": [
      "\u001b[1m\u001b[95m [2024-08-23 01:35:02][DEBUG]: == Working Agent: A hospital nurse\u001b[00m\n",
      "\u001b[1m\u001b[95m [2024-08-23 01:35:02][INFO]: == Starting Task: Given this chat history between you and the patient: \"{history}\" .Highlight important symptoms. You will collect patient information by asking questions. You will output a question for further precision. If enough information has been recieved, report the information in a bullet point format to the doctor. Avoid adding unnecessary syntax like quotation marks. \u001b[00m\n",
      "\n",
      "\n",
      "\u001b[1m> Entering new CrewAgentExecutor chain...\u001b[0m\n",
      "\u001b[32;1m\u001b[1;3m**History:**\n",
      "Patient: \"I've been having sharp pains in my abdomen for the past two days. It's worse when I move around.\"\n",
      "Nurse: \"I see. Have you noticed any other symptoms along with the pain?\"\n",
      "\n",
      "**Thought:** The patient has reported abdominal pain for two days, aggravated by movement. No additional symptoms have been mentioned yet.\n",
      "\n",
      "**Final Answer:** Have you experienced any fever, nausea, or changes in your bowel movements since the pain started? True\u001b[0m\n",
      "\n",
      "\u001b[1m> Finished chain.\u001b[0m\n",
      "\u001b[1m\u001b[92m [2024-08-23 01:35:05][DEBUG]: == [A hospital nurse] Task output: ** Have you experienced any fever, nausea, or changes in your bowel movements since the pain started? True\n",
      "\n",
      "\u001b[00m\n"
     ]
    },
    {
     "data": {
      "text/markdown": [
       "** Have you experienced any fever, nausea, or changes in your bowel movements since the pain started? True"
      ],
      "text/plain": [
       "<IPython.core.display.Markdown object>"
      ]
     },
     "metadata": {},
     "output_type": "display_data"
    }
   ],
   "source": [
    "display(Markdown(prompt_crew.kickoff().raw))"
   ]
  },
  {
   "cell_type": "code",
   "execution_count": 234,
   "id": "8a703fab-913d-49c9-971d-0f3f3dce7d97",
   "metadata": {
    "tags": []
   },
   "outputs": [],
   "source": [
    "import gradio as gr\n",
    "from gradio import ChatMessage"
   ]
  },
  {
   "cell_type": "code",
   "execution_count": 235,
   "id": "f9fda4db-67a6-4b05-a4a2-accc4a893052",
   "metadata": {
    "tags": []
   },
   "outputs": [
    {
     "name": "stdout",
     "output_type": "stream",
     "text": [
      "\u001b[1m\u001b[95m [2024-08-23 01:35:05][DEBUG]: == Working Agent: A hospital nurse\u001b[00m\n",
      "\u001b[1m\u001b[95m [2024-08-23 01:35:05][INFO]: == Starting Task: Given this chat history between you and the patient: \"None yet\" .Highlight important symptoms. You will collect patient information by asking questions. You will output a question for further precision. If enough information has been recieved, report the information in a bullet point format to the doctor. Avoid adding unnecessary syntax like quotation marks. \u001b[00m\n",
      "\n",
      "\n",
      "\u001b[1m> Entering new CrewAgentExecutor chain...\u001b[0m\n",
      "\u001b[32;1m\u001b[1;3m**Final Answer:**\n",
      "Have you noticed any fever or chills in the past few days? True\u001b[0m\n",
      "\n",
      "\u001b[1m> Finished chain.\u001b[0m\n",
      "\u001b[1m\u001b[92m [2024-08-23 01:35:05][DEBUG]: == [A hospital nurse] Task output: **\n",
      "Have you noticed any fever or chills in the past few days? True\n",
      "\n",
      "\u001b[00m\n",
      "Running on local URL:  http://127.0.0.1:7924\n",
      "Running on public URL: https://22e45e7df6dba00ebe.gradio.live\n",
      "\n",
      "This share link expires in 72 hours. For free permanent hosting and GPU upgrades, run `gradio deploy` from Terminal to deploy to Spaces (https://huggingface.co/spaces)\n"
     ]
    },
    {
     "data": {
      "text/html": [
       "<div><iframe src=\"https://22e45e7df6dba00ebe.gradio.live\" width=\"100%\" height=\"500\" allow=\"autoplay; camera; microphone; clipboard-read; clipboard-write;\" frameborder=\"0\" allowfullscreen></iframe></div>"
      ],
      "text/plain": [
       "<IPython.core.display.HTML object>"
      ]
     },
     "metadata": {},
     "output_type": "display_data"
    },
    {
     "data": {
      "text/plain": []
     },
     "execution_count": 235,
     "metadata": {},
     "output_type": "execute_result"
    }
   ],
   "source": [
    "import random\n",
    "import torch\n",
    "\n",
    "def filter_ans(ans):\n",
    "    return ans.removeprefix(keyword).removesuffix(keyword).strip(\"\\\"* \")\n",
    "    \n",
    "def response(message, history):\n",
    "    q_and_ans = []\n",
    "    history = history[-10:]\n",
    "    history += [[message, None]]\n",
    "    for i in range(len(history)-1):\n",
    "        q_and_ans.append(' '.join([history[i][1], history[i+1][0]]))\n",
    "        \n",
    "    history_str = '\\n'.join(q_and_ans)\n",
    "    print(history_str)\n",
    "    answer = prompt_crew.kickoff(inputs={'history': history_str}).raw\n",
    "    if keyword not in answer:\n",
    "        \n",
    "        return filter_ans(diagnose_crew.kickoff(inputs={'symptoms': answer}).raw)\n",
    "    return filter_ans(answer)\n",
    "\n",
    "gr.ChatInterface(\n",
    "    response,\n",
    "    chatbot=gr.Chatbot([(None, filter_ans(prompt_crew.kickoff(inputs={'history': \"None yet\"}).raw))])\n",
    ").launch(share=True)"
   ]
  },
  {
   "cell_type": "code",
   "execution_count": null,
   "id": "e007d1d5-325e-4d7d-ba0c-2a847151903d",
   "metadata": {},
   "outputs": [
    {
     "name": "stdout",
     "output_type": "stream",
     "text": [
      "\n",
      "\u001b[1m\u001b[95m [2024-08-23 01:40:27][DEBUG]: == Working Agent: A hospital nurse\u001b[00m\n",
      "\u001b[1m\u001b[95m [2024-08-23 01:40:27][INFO]: == Starting Task: Given this chat history between you and the patient: \"\" .Highlight important symptoms. You will collect patient information by asking questions. You will output a question for further precision. If enough information has been recieved, report the information in a bullet point format to the doctor. Avoid adding unnecessary syntax like quotation marks. \u001b[00m\n",
      "\n",
      "\n",
      "\u001b[1m> Entering new CrewAgentExecutor chain...\u001b[0m\n",
      "\u001b[32;1m\u001b[1;3mThought: The patient hasn't mentioned any specific symptoms yet.\n",
      "Final Answer: Can you please tell me what brings you in today? True\u001b[0m\n",
      "\n",
      "\u001b[1m> Finished chain.\u001b[0m\n",
      "\u001b[1m\u001b[92m [2024-08-23 01:40:28][DEBUG]: == [A hospital nurse] Task output: Can you please tell me what brings you in today? True\n",
      "\n",
      "\u001b[00m\n",
      "Can you please tell me what brings you in today? i have pain in my knee\n",
      "\u001b[1m\u001b[95m [2024-08-23 01:40:37][DEBUG]: == Working Agent: A hospital nurse\u001b[00m\n",
      "\u001b[1m\u001b[95m [2024-08-23 01:40:37][INFO]: == Starting Task: Given this chat history between you and the patient: \"Can you please tell me what brings you in today? i have pain in my knee\" .Highlight important symptoms. You will collect patient information by asking questions. You will output a question for further precision. If enough information has been recieved, report the information in a bullet point format to the doctor. Avoid adding unnecessary syntax like quotation marks. \u001b[00m\n",
      "\n",
      "\n",
      "\u001b[1m> Entering new CrewAgentExecutor chain...\u001b[0m\n",
      "\u001b[32;1m\u001b[1;3mThought: The patient has mentioned knee pain. To gather more information, I should ask about the onset, duration, and severity of the pain.\n",
      "Final Answer: When did your knee pain start, and how long have you been experiencing it? True\u001b[0m\n",
      "\n",
      "\u001b[1m> Finished chain.\u001b[0m\n",
      "\u001b[1m\u001b[92m [2024-08-23 01:40:39][DEBUG]: == [A hospital nurse] Task output: When did your knee pain start, and how long have you been experiencing it? True\n",
      "\n",
      "\u001b[00m\n"
     ]
    }
   ],
   "source": [
    "keyword in \"hi\""
   ]
  },
  {
   "cell_type": "code",
   "execution_count": null,
   "id": "c04bdcec-342c-4211-9d30-f0fb18911b86",
   "metadata": {},
   "outputs": [],
   "source": []
  },
  {
   "cell_type": "code",
   "execution_count": null,
   "id": "edeeab50-2cfb-40b6-87d5-b45d30fb9f94",
   "metadata": {},
   "outputs": [],
   "source": []
  }
 ],
 "metadata": {
  "kernelspec": {
   "display_name": "Python 3 (ipykernel)",
   "language": "python",
   "name": "python3"
  },
  "language_info": {
   "codemirror_mode": {
    "name": "ipython",
    "version": 3
   },
   "file_extension": ".py",
   "mimetype": "text/x-python",
   "name": "python",
   "nbconvert_exporter": "python",
   "pygments_lexer": "ipython3",
   "version": "3.11.7"
  }
 },
 "nbformat": 4,
 "nbformat_minor": 5
}
